{
 "cells": [
  {
   "cell_type": "code",
   "execution_count": 1,
   "metadata": {},
   "outputs": [
    {
     "name": "stderr",
     "output_type": "stream",
     "text": [
      "Loading required package: S4Vectors\n",
      "Loading required package: stats4\n",
      "Loading required package: BiocGenerics\n",
      "Loading required package: parallel\n",
      "\n",
      "Attaching package: ‘BiocGenerics’\n",
      "\n",
      "The following objects are masked from ‘package:parallel’:\n",
      "\n",
      "    clusterApply, clusterApplyLB, clusterCall, clusterEvalQ,\n",
      "    clusterExport, clusterMap, parApply, parCapply, parLapply,\n",
      "    parLapplyLB, parRapply, parSapply, parSapplyLB\n",
      "\n",
      "The following objects are masked from ‘package:stats’:\n",
      "\n",
      "    IQR, mad, sd, var, xtabs\n",
      "\n",
      "The following objects are masked from ‘package:base’:\n",
      "\n",
      "    anyDuplicated, append, as.data.frame, cbind, colMeans, colnames,\n",
      "    colSums, do.call, duplicated, eval, evalq, Filter, Find, get, grep,\n",
      "    grepl, intersect, is.unsorted, lapply, lengths, Map, mapply, match,\n",
      "    mget, order, paste, pmax, pmax.int, pmin, pmin.int, Position, rank,\n",
      "    rbind, Reduce, rowMeans, rownames, rowSums, sapply, setdiff, sort,\n",
      "    table, tapply, union, unique, unsplit, which, which.max, which.min\n",
      "\n",
      "Warning message:\n",
      "“replacing previous import ‘stats::sd’ by ‘BiocGenerics::sd’ when loading ‘S4Vectors’”Warning message:\n",
      "“replacing previous import ‘stats::var’ by ‘BiocGenerics::var’ when loading ‘S4Vectors’”Warning message:\n",
      "“multiple methods tables found for ‘var’”Warning message:\n",
      "“multiple methods tables found for ‘sd’”Warning message:\n",
      "“multiple methods tables found for ‘rowSums’”Warning message:\n",
      "“multiple methods tables found for ‘colSums’”Warning message:\n",
      "“multiple methods tables found for ‘rowMeans’”Warning message:\n",
      "“multiple methods tables found for ‘colMeans’”\n",
      "Attaching package: ‘S4Vectors’\n",
      "\n",
      "The following objects are masked from ‘package:BiocGenerics’:\n",
      "\n",
      "    colMeans, colSums, rowMeans, rowSums\n",
      "\n",
      "The following objects are masked from ‘package:base’:\n",
      "\n",
      "    colMeans, colSums, expand.grid, rowMeans, rowSums\n",
      "\n",
      "Loading required package: IRanges\n",
      "Warning message:\n",
      "“replacing previous import ‘stats::sd’ by ‘BiocGenerics::sd’ when loading ‘IRanges’”Warning message:\n",
      "“replacing previous import ‘stats::var’ by ‘BiocGenerics::var’ when loading ‘IRanges’”Warning message:\n",
      "“replacing previous import ‘BiocGenerics::rowSums’ by ‘S4Vectors::rowSums’ when loading ‘IRanges’”Warning message:\n",
      "“replacing previous import ‘BiocGenerics::var’ by ‘S4Vectors::var’ when loading ‘IRanges’”Warning message:\n",
      "“replacing previous import ‘BiocGenerics::rowMeans’ by ‘S4Vectors::rowMeans’ when loading ‘IRanges’”Warning message:\n",
      "“replacing previous import ‘BiocGenerics::colSums’ by ‘S4Vectors::colSums’ when loading ‘IRanges’”Warning message:\n",
      "“replacing previous import ‘BiocGenerics::sd’ by ‘S4Vectors::sd’ when loading ‘IRanges’”Warning message:\n",
      "“replacing previous import ‘BiocGenerics::colMeans’ by ‘S4Vectors::colMeans’ when loading ‘IRanges’”Warning message:\n",
      "“multiple methods tables found for ‘var’”Warning message:\n",
      "“multiple methods tables found for ‘sd’”Loading required package: GenomicRanges\n",
      "Loading required package: GenomeInfoDb\n",
      "Warning message:\n",
      "“replacing previous import ‘BiocGenerics::rowSums’ by ‘S4Vectors::rowSums’ when loading ‘GenomeInfoDb’”Warning message:\n",
      "“replacing previous import ‘BiocGenerics::var’ by ‘S4Vectors::var’ when loading ‘GenomeInfoDb’”Warning message:\n",
      "“replacing previous import ‘BiocGenerics::rowMeans’ by ‘S4Vectors::rowMeans’ when loading ‘GenomeInfoDb’”Warning message:\n",
      "“replacing previous import ‘BiocGenerics::colSums’ by ‘S4Vectors::colSums’ when loading ‘GenomeInfoDb’”Warning message:\n",
      "“replacing previous import ‘BiocGenerics::sd’ by ‘S4Vectors::sd’ when loading ‘GenomeInfoDb’”Warning message:\n",
      "“replacing previous import ‘BiocGenerics::colMeans’ by ‘S4Vectors::colMeans’ when loading ‘GenomeInfoDb’”Warning message:\n",
      "“replacing previous import ‘BiocGenerics::rowSums’ by ‘S4Vectors::rowSums’ when loading ‘GenomicRanges’”Warning message:\n",
      "“replacing previous import ‘BiocGenerics::var’ by ‘S4Vectors::var’ when loading ‘GenomicRanges’”Warning message:\n",
      "“replacing previous import ‘BiocGenerics::rowMeans’ by ‘S4Vectors::rowMeans’ when loading ‘GenomicRanges’”Warning message:\n",
      "“replacing previous import ‘BiocGenerics::colSums’ by ‘S4Vectors::colSums’ when loading ‘GenomicRanges’”Warning message:\n",
      "“replacing previous import ‘BiocGenerics::sd’ by ‘S4Vectors::sd’ when loading ‘GenomicRanges’”Warning message:\n",
      "“replacing previous import ‘BiocGenerics::colMeans’ by ‘S4Vectors::colMeans’ when loading ‘GenomicRanges’”Warning message:\n",
      "“replacing previous import ‘BiocGenerics::rowSums’ by ‘S4Vectors::rowSums’ when loading ‘XVector’”Warning message:\n",
      "“replacing previous import ‘BiocGenerics::var’ by ‘S4Vectors::var’ when loading ‘XVector’”Warning message:\n",
      "“replacing previous import ‘BiocGenerics::rowMeans’ by ‘S4Vectors::rowMeans’ when loading ‘XVector’”Warning message:\n",
      "“replacing previous import ‘BiocGenerics::colSums’ by ‘S4Vectors::colSums’ when loading ‘XVector’”Warning message:\n",
      "“replacing previous import ‘BiocGenerics::sd’ by ‘S4Vectors::sd’ when loading ‘XVector’”Warning message:\n",
      "“replacing previous import ‘BiocGenerics::colMeans’ by ‘S4Vectors::colMeans’ when loading ‘XVector’”Loading required package: SummarizedExperiment\n",
      "Loading required package: Biobase\n",
      "Welcome to Bioconductor\n",
      "\n",
      "    Vignettes contain introductory material; view with\n",
      "    'browseVignettes()'. To cite Bioconductor, see\n",
      "    'citation(\"Biobase\")', and for packages 'citation(\"pkgname\")'.\n",
      "\n",
      "Warning message:\n",
      "“replacing previous import ‘BiocGenerics::rowSums’ by ‘S4Vectors::rowSums’ when loading ‘SummarizedExperiment’”Warning message:\n",
      "“replacing previous import ‘BiocGenerics::var’ by ‘S4Vectors::var’ when loading ‘SummarizedExperiment’”Warning message:\n",
      "“replacing previous import ‘BiocGenerics::rowMeans’ by ‘S4Vectors::rowMeans’ when loading ‘SummarizedExperiment’”Warning message:\n",
      "“replacing previous import ‘BiocGenerics::colSums’ by ‘S4Vectors::colSums’ when loading ‘SummarizedExperiment’”Warning message:\n",
      "“replacing previous import ‘BiocGenerics::sd’ by ‘S4Vectors::sd’ when loading ‘SummarizedExperiment’”Warning message:\n",
      "“replacing previous import ‘BiocGenerics::colMeans’ by ‘S4Vectors::colMeans’ when loading ‘SummarizedExperiment’”Warning message:\n",
      "“replacing previous import ‘BiocGenerics::var’ by ‘IRanges::var’ when loading ‘DESeq2’”Warning message:\n",
      "“replacing previous import ‘BiocGenerics::sd’ by ‘IRanges::sd’ when loading ‘DESeq2’”Warning message:\n",
      "“replacing previous import ‘BiocGenerics::rowSums’ by ‘S4Vectors::rowSums’ when loading ‘DESeq2’”Warning message:\n",
      "“replacing previous import ‘BiocGenerics::rowMeans’ by ‘S4Vectors::rowMeans’ when loading ‘DESeq2’”Warning message:\n",
      "“replacing previous import ‘BiocGenerics::colSums’ by ‘S4Vectors::colSums’ when loading ‘DESeq2’”Warning message:\n",
      "“replacing previous import ‘BiocGenerics::colMeans’ by ‘S4Vectors::colMeans’ when loading ‘DESeq2’”Warning message:\n",
      "“replacing previous import ‘BiocGenerics::rowSums’ by ‘S4Vectors::rowSums’ when loading ‘AnnotationDbi’”Warning message:\n",
      "“replacing previous import ‘BiocGenerics::var’ by ‘S4Vectors::var’ when loading ‘AnnotationDbi’”Warning message:\n",
      "“replacing previous import ‘BiocGenerics::rowMeans’ by ‘S4Vectors::rowMeans’ when loading ‘AnnotationDbi’”Warning message:\n",
      "“replacing previous import ‘BiocGenerics::colSums’ by ‘S4Vectors::colSums’ when loading ‘AnnotationDbi’”Warning message:\n",
      "“replacing previous import ‘BiocGenerics::sd’ by ‘S4Vectors::sd’ when loading ‘AnnotationDbi’”Warning message:\n",
      "“replacing previous import ‘BiocGenerics::colMeans’ by ‘S4Vectors::colMeans’ when loading ‘AnnotationDbi’”\n",
      "Attaching package: ‘gplots’\n",
      "\n",
      "The following object is masked from ‘package:IRanges’:\n",
      "\n",
      "    space\n",
      "\n",
      "The following object is masked from ‘package:S4Vectors’:\n",
      "\n",
      "    space\n",
      "\n",
      "The following object is masked from ‘package:stats’:\n",
      "\n",
      "    lowess\n",
      "\n"
     ]
    }
   ],
   "source": [
    "library(DESeq2)\n",
    "library(gplots)\n",
    "library(RColorBrewer)\n",
    "library(genefilter)"
   ]
  },
  {
   "cell_type": "code",
   "execution_count": null,
   "metadata": {},
   "outputs": [],
   "source": [
    "countsFile <- '/counts/all_samples.countSimp.no_header.txt'\n",
    "sampleInfoFile <- 'all_samples_extended_info.txt'\n",
    "peakIDsFile <- 'dlpfc_hpc_combined_set_combined_200_name.saf'"
   ]
  },
  {
   "cell_type": "code",
   "execution_count": 4,
   "metadata": {},
   "outputs": [
    {
     "data": {
      "text/html": [
       "FALSE"
      ],
      "text/latex": [
       "FALSE"
      ],
      "text/markdown": [
       "FALSE"
      ],
      "text/plain": [
       "[1] FALSE"
      ]
     },
     "metadata": {},
     "output_type": "display_data"
    }
   ],
   "source": [
    "countMatrix <- read.table(countsFile, header = FALSE, sep = \"\\t\", skip = 0)\n",
    "sampleInfo <- read.table(sampleInfoFile, header = TRUE, row.names=1, sep = \"\\t\", skip=0)\n",
    "peakInfo <- read.table(peakIDsFile, header = FALSE, row.names=1, sep = \"\\t\", skip=0)\n",
    "\n",
    "#making sure the row names are valid variable names, essential for row names and column names to match\n",
    "rownames(sampleInfo) <- make.names(rownames(sampleInfo))\n",
    "all(rownames(sampleInfo) == colnames(countMatrix))"
   ]
  },
  {
   "cell_type": "code",
   "execution_count": 5,
   "metadata": {},
   "outputs": [
    {
     "data": {
      "text/html": [
       "TRUE"
      ],
      "text/latex": [
       "TRUE"
      ],
      "text/markdown": [
       "TRUE"
      ],
      "text/plain": [
       "[1] TRUE"
      ]
     },
     "metadata": {},
     "output_type": "display_data"
    }
   ],
   "source": [
    "colnames(countMatrix) <- rownames(sampleInfo)\n",
    "all(rownames(sampleInfo) == colnames(countMatrix))"
   ]
  },
  {
   "cell_type": "code",
   "execution_count": 6,
   "metadata": {},
   "outputs": [],
   "source": [
    "rownames(countMatrix) = rownames(peakInfo)"
   ]
  },
  {
   "cell_type": "code",
   "execution_count": 7,
   "metadata": {},
   "outputs": [],
   "source": [
    "sampleInfo$proj_id <- factor(sampleInfo$proj_id)\n",
    "sampleInfo$cell_type <- factor(sampleInfo$cell_type)\n",
    "sampleInfo$brain_region <- factor(sampleInfo$brain_region)\n",
    "sampleInfo$attempt <- factor(sampleInfo$attempt)\n",
    "sampleInfo$replicate <- factor(sampleInfo$replicate)\n",
    "sampleInfo$binary_amyloid <- factor(sampleInfo$binary_amyloid)\n",
    "sampleInfo$msex <- factor(sampleInfo$msex)\n",
    "sampleInfo$is_microglia <- factor(as.integer(sampleInfo$cell_type == \"Microglia\"))\n",
    "sampleInfo$is_glia <- factor(as.integer(sampleInfo$cell_type == \"Glia\"))\n",
    "sampleInfo$is_neuron <- factor(as.integer(sampleInfo$cell_type == \"Neuron\"))\n",
    "sampleInfo$amyloid_sqrt <- sqrt(sampleInfo$amyloid)"
   ]
  },
  {
   "cell_type": "code",
   "execution_count": 8,
   "metadata": {},
   "outputs": [],
   "source": [
    "nscCutoff <- 1.0\n",
    "rscCutoff <- 0.4\n",
    "pbcCutoff <- 0.5"
   ]
  },
  {
   "cell_type": "code",
   "execution_count": 9,
   "metadata": {},
   "outputs": [],
   "source": [
    "sampleInfo <- sampleInfo[sampleInfo$NSC>nscCutoff,]\n",
    "sampleInfo <- sampleInfo[sampleInfo$RSC>rscCutoff,]\n",
    "sampleInfo <- sampleInfo[sampleInfo$PBC1>pbcCutoff,]\n",
    "sampleInfo <- sampleInfo[sampleInfo$PBC2>pbcCutoff,]\n",
    "sampleInfo <- sampleInfo[sampleInfo$cell_type==\"Glia\",]\n",
    "sampleInfo <- sampleInfo[sampleInfo$brain_region==\"DLPFC\",]\n",
    "countMatrix <- countMatrix[,rownames(sampleInfo)]"
   ]
  },
  {
   "cell_type": "code",
   "execution_count": null,
   "metadata": {},
   "outputs": [],
   "source": [
    "dds <-  DESeqDataSetFromMatrix(countData = countMatrix,\n",
    "                              colData = sampleInfo,\n",
    "                              design = ~ binary_amyloid)\n",
    "dds"
   ]
  },
  {
   "cell_type": "code",
   "execution_count": 11,
   "metadata": {},
   "outputs": [],
   "source": [
    "ddsCollapsed <- collapseReplicates( dds,\n",
    "                                   groupby = make.names(paste(dds$proj_id,dds$brain_region, dds$cell_type,sep=\"_\")))"
   ]
  },
  {
   "cell_type": "code",
   "execution_count": 12,
   "metadata": {},
   "outputs": [],
   "source": [
    "vst_transform <- vst(ddsCollapsed)"
   ]
  },
  {
   "cell_type": "code",
   "execution_count": 13,
   "metadata": {},
   "outputs": [],
   "source": [
    "vst_data <- assay(vst_transform)"
   ]
  },
  {
   "cell_type": "code",
   "execution_count": 15,
   "metadata": {},
   "outputs": [],
   "source": [
    "write.table(vst_data, file=\"/vst_transform/glia_dlpfc_vst_matrix.txt\", sep=\"\\t\", quote=FALSE)"
   ]
  },
  {
   "cell_type": "code",
   "execution_count": 14,
   "metadata": {},
   "outputs": [],
   "source": [
    "dlpfcSampleInfo <- colData(ddsCollapsed)"
   ]
  },
  {
   "cell_type": "code",
   "execution_count": 20,
   "metadata": {},
   "outputs": [],
   "source": [
    "write.table(dlpfcSampleInfo, file=\"/vst_transform/glia_dlpfc_sample_info.txt\", sep=\"\\t\", quote=FALSE)"
   ]
  },
  {
   "cell_type": "code",
   "execution_count": null,
   "metadata": {},
   "outputs": [],
   "source": [
    "glia_dlpfc_ba_up_peaks_file <- \"/deseq_analysis/binary_amyloid_deseq/glia_dlpfc_binary_amyloid_up_peak_ids.txt\"\n",
    "glia_dlpfc_ba_up_peaks_list <- as.character(read.table(glia_dlpfc_ba_down_peaks_file)$V1)"
   ]
  },
  {
   "cell_type": "code",
   "execution_count": 16,
   "metadata": {},
   "outputs": [],
   "source": [
    "selected_vst_matrix <- vst_data[glia_dlpfc_ba_up_peaks_list,]"
   ]
  },
  {
   "cell_type": "code",
   "execution_count": 17,
   "metadata": {},
   "outputs": [
    {
     "data": {
      "text/html": [
       "<strong>png:</strong> 2"
      ],
      "text/latex": [
       "\\textbf{png:} 2"
      ],
      "text/markdown": [
       "**png:** 2"
      ],
      "text/plain": [
       "png \n",
       "  2 "
      ]
     },
     "metadata": {},
     "output_type": "display_data"
    }
   ],
   "source": [
    "sampleInfoSorted <- dlpfcSampleInfo[order(dlpfcSampleInfo$amyloid),]\n",
    "\n",
    "selected_vst_matrix <- selected_vst_matrix[,rownames(sampleInfoSorted)]\n",
    "\n",
    "selected_vst_matrix <- selected_vst_matrix[order(rowVars(selected_vst_matrix), decreasing=TRUE ),]\n",
    "\n",
    "png(\"glia_dlpfc_ba_up_heatmap.png\")\n",
    "full <- heatmap.2(selected_vst_matrix,\n",
    "          col= colorRampPalette(rev(brewer.pal(9, \"RdBu\")))(100),\n",
    "          scale=\"row\",\n",
    "          dendrogram=\"none\",\n",
    "          trace=\"none\",\n",
    "          Colv=FALSE,\n",
    "          Rowv=FALSE,\n",
    "          density.info=\"none\",\n",
    "         )\n",
    "dev.off()"
   ]
  },
  {
   "cell_type": "code",
   "execution_count": 18,
   "metadata": {},
   "outputs": [
    {
     "data": {
      "text/html": [
       "<strong>png:</strong> 2"
      ],
      "text/latex": [
       "\\textbf{png:} 2"
      ],
      "text/markdown": [
       "**png:** 2"
      ],
      "text/plain": [
       "png \n",
       "  2 "
      ]
     },
     "metadata": {},
     "output_type": "display_data"
    }
   ],
   "source": [
    "svg(\"glia_dlpfc_amyloid_values.svg\")\n",
    "image(as.matrix(sampleInfoSorted$amyloid), col=rev(heat.colors(8)))\n",
    "dev.off()"
   ]
  },
  {
   "cell_type": "code",
   "execution_count": null,
   "metadata": {},
   "outputs": [],
   "source": []
  }
 ],
 "metadata": {
  "kernelspec": {
   "display_name": "R [conda env:r-environment]",
   "language": "R",
   "name": "conda-env-r-environment-r"
  },
  "language_info": {
   "codemirror_mode": "r",
   "file_extension": ".r",
   "mimetype": "text/x-r-source",
   "name": "R",
   "pygments_lexer": "r",
   "version": "3.3.2"
  }
 },
 "nbformat": 4,
 "nbformat_minor": 2
}
