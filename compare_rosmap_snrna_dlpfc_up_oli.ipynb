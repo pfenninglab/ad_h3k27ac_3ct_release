{
 "cells": [
  {
   "cell_type": "code",
   "execution_count": 1,
   "metadata": {},
   "outputs": [],
   "source": [
    "import matplotlib.pyplot as plt\n",
    "import pandas as pd"
   ]
  },
  {
   "cell_type": "code",
   "execution_count": null,
   "metadata": {},
   "outputs": [],
   "source": [
    "oli_diff_table_mathys_valder_no_vs_path_file = \"/mathys_snrna_analysis/dlpfc_snrnaseq_oli_degs.txt\"\n",
    "oli_diff_table_mathys_valder_no_vs_early_file = \"/mathys_snrna_analysis/dlpfc_snrnaseq_oli_degs_no_vs_early.txt\""
   ]
  },
  {
   "cell_type": "code",
   "execution_count": 35,
   "metadata": {},
   "outputs": [],
   "source": [
    "oli_diff_table_mathys_valder_no_vs_path = pd.read_csv(oli_diff_table_mathys_valder_no_vs_path_file, sep=\"\\t\", index_col=0)\n",
    "oli_diff_table_mathys_valder_no_vs_early = pd.read_csv(oli_diff_table_mathys_valder_no_vs_early_file, sep=\"\\t\", index_col=0)"
   ]
  },
  {
   "cell_type": "code",
   "execution_count": null,
   "metadata": {},
   "outputs": [],
   "source": [
    "dlpfc_glia_results_file = \"/deseq_analysis/binary_amyloid_deseq/glia_dlpfc_binary_amyloid_results_sorted.txt\""
   ]
  },
  {
   "cell_type": "code",
   "execution_count": 37,
   "metadata": {},
   "outputs": [],
   "source": [
    "dlpfc_glia_results_table = pd.read_csv(dlpfc_glia_results_file, sep=\"\\t\", skiprows=1, header=None, names=[\"PeakID\",\"baseMean\",\"log2FoldChange\",\"lfcSE\",\"stat\",\"pvalue\",\"padj\"], index_col=0)"
   ]
  },
  {
   "cell_type": "code",
   "execution_count": null,
   "metadata": {},
   "outputs": [],
   "source": [
    "peaks2GenesFile = \"dlpfc_hpc_combined_set_combined_200_name_homer_gene_annot.txt\""
   ]
  },
  {
   "cell_type": "code",
   "execution_count": 39,
   "metadata": {},
   "outputs": [],
   "source": [
    "peaks2GenesTable = pd.read_csv(peaks2GenesFile, sep=\"\\t\", index_col=0)"
   ]
  },
  {
   "cell_type": "code",
   "execution_count": 40,
   "metadata": {},
   "outputs": [],
   "source": [
    "results_and_peaks2genes = pd.merge(peaks2GenesTable,\n",
    "                 dlpfc_glia_results_table, left_index=True, right_index=True)"
   ]
  },
  {
   "cell_type": "code",
   "execution_count": 41,
   "metadata": {},
   "outputs": [],
   "source": [
    "promoter_results_and_peaks2genes = results_and_peaks2genes.loc[abs(results_and_peaks2genes[\"Distance to TSS\"])<5000, ]"
   ]
  },
  {
   "cell_type": "code",
   "execution_count": 42,
   "metadata": {},
   "outputs": [],
   "source": [
    "promoter_results_and_peaks2genes_significant = promoter_results_and_peaks2genes.loc[promoter_results_and_peaks2genes[\"padj\"]<0.05]"
   ]
  },
  {
   "cell_type": "code",
   "execution_count": 43,
   "metadata": {},
   "outputs": [],
   "source": [
    "promoter_results_and_peaks2genes_significant.index = promoter_results_and_peaks2genes_significant[\"Gene Name\"]"
   ]
  },
  {
   "cell_type": "code",
   "execution_count": 44,
   "metadata": {},
   "outputs": [],
   "source": [
    "promoter_k27ac_results_peaks2genes_and_no_vs_path_expr = pd.merge(promoter_results_and_peaks2genes_significant,\n",
    "                 oli_diff_table_mathys_valder_no_vs_path, left_index=True, right_index=True)\n",
    "promoter_k27ac_results_peaks2genes_and_no_vs_early_expr = pd.merge(promoter_results_and_peaks2genes_significant,\n",
    "                 oli_diff_table_mathys_valder_no_vs_early, left_index=True, right_index=True)"
   ]
  },
  {
   "cell_type": "code",
   "execution_count": 45,
   "metadata": {},
   "outputs": [
    {
     "data": {
      "text/plain": [
       "(500, 32)"
      ]
     },
     "execution_count": 45,
     "metadata": {},
     "output_type": "execute_result"
    }
   ],
   "source": [
    "promoter_k27ac_results_peaks2genes_and_no_vs_path_expr.shape"
   ]
  },
  {
   "cell_type": "code",
   "execution_count": 46,
   "metadata": {},
   "outputs": [
    {
     "data": {
      "text/plain": [
       "(495, 32)"
      ]
     },
     "execution_count": 46,
     "metadata": {},
     "output_type": "execute_result"
    }
   ],
   "source": [
    "promoter_k27ac_results_peaks2genes_and_no_vs_early_expr.shape"
   ]
  },
  {
   "cell_type": "code",
   "execution_count": 48,
   "metadata": {},
   "outputs": [
    {
     "data": {
      "image/png": "[encoded data removed]",
      "text/plain": [
       "<Figure size 432x288 with 1 Axes>"
      ]
     },
     "metadata": {
      "needs_background": "light"
     },
     "output_type": "display_data"
    }
   ],
   "source": [
    "fig, ax = plt.subplots()\n",
    "\n",
    "parts = ax.violinplot(dataset=[promoter_k27ac_results_peaks2genes_and_no_vs_path_expr[\"IndModel.FC\"].to_numpy(dtype='float32'),\n",
    "                        promoter_k27ac_results_peaks2genes_and_no_vs_early_expr[\"IndModel.FC\"].to_numpy(dtype='float32')],showmedians=False,showextrema=False)\n",
    "\n",
    "parts['bodies'][0].set_facecolor('#0085ffff')\n",
    "parts['bodies'][0].set_edgecolor('black')\n",
    "parts['bodies'][0].set_alpha(1)\n",
    "\n",
    "parts['bodies'][1].set_facecolor('#0000abff')\n",
    "parts['bodies'][1].set_edgecolor('black')\n",
    "parts['bodies'][1].set_alpha(1)    \n",
    "\n",
    "\n",
    "plt.boxplot(x=[promoter_k27ac_results_peaks2genes_and_no_vs_path_expr[\"IndModel.FC\"].to_numpy(dtype='float32'),\n",
    "               promoter_k27ac_results_peaks2genes_and_no_vs_early_expr[\"IndModel.FC\"].to_numpy(dtype='float32')])\n",
    "plt.ylabel(\"log2fc transcription\")\n",
    "plt.ylim(-1,1)\n",
    "plt.axhline(y=0,linestyle='--',c='k')\n",
    "plt.savefig(\"oli_dlpfc_peaks_l2fc_violins.svg\")"
   ]
  },
  {
   "cell_type": "code",
   "execution_count": 49,
   "metadata": {},
   "outputs": [
    {
     "name": "stdout",
     "output_type": "stream",
     "text": [
      "Ttest_1sampResult(statistic=2.6594641211072716, pvalue=0.008078140376998381)\n",
      "0.035729816964\n"
     ]
    }
   ],
   "source": [
    "from scipy.stats import ttest_1samp\n",
    "import numpy as np\n",
    "print(ttest_1samp(promoter_k27ac_results_peaks2genes_and_no_vs_path_expr[\"IndModel.FC\"],0))\n",
    "print(np.mean(promoter_k27ac_results_peaks2genes_and_no_vs_path_expr[\"IndModel.FC\"]))"
   ]
  },
  {
   "cell_type": "code",
   "execution_count": 50,
   "metadata": {},
   "outputs": [
    {
     "name": "stdout",
     "output_type": "stream",
     "text": [
      "Ttest_1sampResult(statistic=2.135051656612883, pvalue=0.033248151068009206)\n",
      "0.03170981\n"
     ]
    }
   ],
   "source": [
    "from scipy.stats import ttest_1samp\n",
    "import numpy as np\n",
    "print(ttest_1samp(promoter_k27ac_results_peaks2genes_and_no_vs_early_expr[\"IndModel.FC\"].to_numpy(\"float32\"),0))\n",
    "print(np.mean(promoter_k27ac_results_peaks2genes_and_no_vs_early_expr[\"IndModel.FC\"].to_numpy(\"float32\")))"
   ]
  },
  {
   "cell_type": "code",
   "execution_count": null,
   "metadata": {},
   "outputs": [],
   "source": []
  }
 ],
 "metadata": {
  "kernelspec": {
   "display_name": "Python [conda env:data_analysis]",
   "language": "python",
   "name": "conda-env-data_analysis-py"
  },
  "language_info": {
   "codemirror_mode": {
    "name": "ipython",
    "version": 3
   },
   "file_extension": ".py",
   "mimetype": "text/x-python",
   "name": "python",
   "nbconvert_exporter": "python",
   "pygments_lexer": "ipython3",
   "version": "3.7.3"
  }
 },
 "nbformat": 4,
 "nbformat_minor": 2
}
