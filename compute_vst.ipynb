{
 "cells": [
  {
   "cell_type": "code",
   "execution_count": 21,
   "metadata": {},
   "outputs": [],
   "source": [
    "library(DESeq2)\n",
    "library(gplots)\n",
    "library(RColorBrewer)\n",
    "library(genefilter)"
   ]
  },
  {
   "cell_type": "code",
   "execution_count": null,
   "metadata": {},
   "outputs": [],
   "source": [
    "countsFile <- '/counts/all_samples.countSimp.no_header.txt'\n",
    "sampleInfoFile <- 'all_samples_extended_info.txt'\n",
    "peakIDsFile <- 'dlpfc_hpc_combined_set_combined_200_name.saf'"
   ]
  },
  {
   "cell_type": "code",
   "execution_count": 23,
   "metadata": {},
   "outputs": [
    {
     "data": {
      "text/html": [
       "FALSE"
      ],
      "text/latex": [
       "FALSE"
      ],
      "text/markdown": [
       "FALSE"
      ],
      "text/plain": [
       "[1] FALSE"
      ]
     },
     "metadata": {},
     "output_type": "display_data"
    }
   ],
   "source": [
    "countMatrix <- read.table(countsFile, header = FALSE, sep = \"\\t\", skip = 0)\n",
    "sampleInfo <- read.table(sampleInfoFile, header = TRUE, row.names=1, sep = \"\\t\", skip=0)\n",
    "peakInfo <- read.table(peakIDsFile, header = FALSE, row.names=1, sep = \"\\t\", skip=0)\n",
    "\n",
    "#making sure the row names are valid variable names, essential for row names and column names to match\n",
    "rownames(sampleInfo) <- make.names(rownames(sampleInfo))\n",
    "all(rownames(sampleInfo) == colnames(countMatrix))"
   ]
  },
  {
   "cell_type": "code",
   "execution_count": 24,
   "metadata": {},
   "outputs": [
    {
     "data": {
      "text/html": [
       "TRUE"
      ],
      "text/latex": [
       "TRUE"
      ],
      "text/markdown": [
       "TRUE"
      ],
      "text/plain": [
       "[1] TRUE"
      ]
     },
     "metadata": {},
     "output_type": "display_data"
    }
   ],
   "source": [
    "colnames(countMatrix) <- rownames(sampleInfo)\n",
    "all(rownames(sampleInfo) == colnames(countMatrix))"
   ]
  },
  {
   "cell_type": "code",
   "execution_count": 25,
   "metadata": {},
   "outputs": [],
   "source": [
    "rownames(countMatrix) = rownames(peakInfo)"
   ]
  },
  {
   "cell_type": "code",
   "execution_count": 26,
   "metadata": {},
   "outputs": [],
   "source": [
    "sampleInfo$proj_id <- factor(sampleInfo$proj_id)\n",
    "sampleInfo$cell_type <- factor(sampleInfo$cell_type)\n",
    "sampleInfo$brain_region <- factor(sampleInfo$brain_region)\n",
    "sampleInfo$attempt <- factor(sampleInfo$attempt)\n",
    "sampleInfo$replicate <- factor(sampleInfo$replicate)\n",
    "sampleInfo$binary_amyloid <- factor(sampleInfo$binary_amyloid)\n",
    "sampleInfo$msex <- factor(sampleInfo$msex)\n",
    "sampleInfo$is_microglia <- factor(as.integer(sampleInfo$cell_type == \"Microglia\"))\n",
    "sampleInfo$is_glia <- factor(as.integer(sampleInfo$cell_type == \"Glia\"))\n",
    "sampleInfo$is_neuron <- factor(as.integer(sampleInfo$cell_type == \"Neuron\"))\n",
    "sampleInfo$amyloid_sqrt <- sqrt(sampleInfo$amyloid)"
   ]
  },
  {
   "cell_type": "code",
   "execution_count": 27,
   "metadata": {},
   "outputs": [],
   "source": [
    "nscCutoff <- 1.0\n",
    "rscCutoff <- 0.4\n",
    "pbcCutoff <- 0.5"
   ]
  },
  {
   "cell_type": "code",
   "execution_count": 28,
   "metadata": {},
   "outputs": [],
   "source": [
    "sampleInfo <- sampleInfo[sampleInfo$NSC>nscCutoff,]\n",
    "sampleInfo <- sampleInfo[sampleInfo$RSC>rscCutoff,]\n",
    "sampleInfo <- sampleInfo[sampleInfo$PBC1>pbcCutoff,]\n",
    "sampleInfo <- sampleInfo[sampleInfo$PBC2>pbcCutoff,]\n",
    "countMatrix <- countMatrix[,rownames(sampleInfo)]"
   ]
  },
  {
   "cell_type": "code",
   "execution_count": null,
   "metadata": {},
   "outputs": [],
   "source": [
    "dds <-  DESeqDataSetFromMatrix(countData = countMatrix,\n",
    "                              colData = sampleInfo,\n",
    "                              design = ~ binary_amyloid)\n",
    "dds"
   ]
  },
  {
   "cell_type": "code",
   "execution_count": 30,
   "metadata": {},
   "outputs": [],
   "source": [
    "ddsCollapsed <- collapseReplicates( dds,\n",
    "                                   groupby = make.names(paste(dds$proj_id,dds$brain_region, dds$cell_type,sep=\"_\")))"
   ]
  },
  {
   "cell_type": "code",
   "execution_count": null,
   "metadata": {},
   "outputs": [],
   "source": [
    "vst_transform <- vst(ddsCollapsed)"
   ]
  },
  {
   "cell_type": "code",
   "execution_count": null,
   "metadata": {},
   "outputs": [],
   "source": [
    "vst_data <- assay(vst_transform)"
   ]
  },
  {
   "cell_type": "code",
   "execution_count": 15,
   "metadata": {},
   "outputs": [],
   "source": [
    "write.table(vst_data, file=\"/vst_transform/all_samples_vst_matrix.txt\", sep=\"\\t\", quote=FALSE)"
   ]
  },
  {
   "cell_type": "code",
   "execution_count": 14,
   "metadata": {},
   "outputs": [
    {
     "data": {},
     "metadata": {},
     "output_type": "display_data"
    },
    {
     "data": {
      "text/html": [
       "<strong>png:</strong> 2"
      ],
      "text/latex": [
       "\\textbf{png:} 2"
      ],
      "text/markdown": [
       "**png:** 2"
      ],
      "text/plain": [
       "png \n",
       "  2 "
      ]
     },
     "metadata": {},
     "output_type": "display_data"
    }
   ],
   "source": [
    "svg(\"pca_colored_by_population.svg\")\n",
    "plotPCA(vst_transform, ntop=352012, intgroup=\"cell_type\")\n",
    "dev.off()"
   ]
  },
  {
   "cell_type": "code",
   "execution_count": 15,
   "metadata": {},
   "outputs": [
    {
     "data": {},
     "metadata": {},
     "output_type": "display_data"
    },
    {
     "data": {
      "text/html": [
       "<strong>png:</strong> 2"
      ],
      "text/latex": [
       "\\textbf{png:} 2"
      ],
      "text/markdown": [
       "**png:** 2"
      ],
      "text/plain": [
       "png \n",
       "  2 "
      ]
     },
     "metadata": {},
     "output_type": "display_data"
    }
   ],
   "source": [
    "svg(\"pca_colored_by_brain_region.svg\")\n",
    "plotPCA(vst_transform, ntop=352012, intgroup=\"brain_region\")\n",
    "dev.off()"
   ]
  },
  {
   "cell_type": "code",
   "execution_count": 16,
   "metadata": {},
   "outputs": [
    {
     "data": {},
     "metadata": {},
     "output_type": "display_data"
    },
    {
     "data": {
      "text/html": [
       "<strong>png:</strong> 2"
      ],
      "text/latex": [
       "\\textbf{png:} 2"
      ],
      "text/markdown": [
       "**png:** 2"
      ],
      "text/plain": [
       "png \n",
       "  2 "
      ]
     },
     "metadata": {},
     "output_type": "display_data"
    }
   ],
   "source": [
    "svg(\"pca_colored_by_sex.svg\")\n",
    "plotPCA(vst_transform, ntop=352012, intgroup=\"msex\")\n",
    "dev.off()"
   ]
  },
  {
   "cell_type": "code",
   "execution_count": 17,
   "metadata": {},
   "outputs": [
    {
     "data": {},
     "metadata": {},
     "output_type": "display_data"
    },
    {
     "data": {
      "text/html": [
       "<strong>png:</strong> 2"
      ],
      "text/latex": [
       "\\textbf{png:} 2"
      ],
      "text/markdown": [
       "**png:** 2"
      ],
      "text/plain": [
       "png \n",
       "  2 "
      ]
     },
     "metadata": {},
     "output_type": "display_data"
    }
   ],
   "source": [
    "svg(\"pca_colored_by_pathology.svg\")\n",
    "plotPCA(vst_transform, ntop=352012, intgroup=\"binary_amyloid\")\n",
    "dev.off()"
   ]
  },
  {
   "cell_type": "code",
   "execution_count": 18,
   "metadata": {},
   "outputs": [
    {
     "data": {},
     "metadata": {},
     "output_type": "display_data"
    },
    {
     "data": {
      "text/html": [
       "<strong>png:</strong> 2"
      ],
      "text/latex": [
       "\\textbf{png:} 2"
      ],
      "text/markdown": [
       "**png:** 2"
      ],
      "text/plain": [
       "png \n",
       "  2 "
      ]
     },
     "metadata": {},
     "output_type": "display_data"
    }
   ],
   "source": [
    "svg(\"pca_colored_by_pathology_continuous.svg\")\n",
    "plotPCA(vst_transform, ntop=352012, intgroup=\"amyloid_sqrt\")\n",
    "dev.off()"
   ]
  }
 ],
 "metadata": {
  "kernelspec": {
   "display_name": "R [conda env:r-environment]",
   "language": "R",
   "name": "conda-env-r-environment-r"
  },
  "language_info": {
   "codemirror_mode": "r",
   "file_extension": ".r",
   "mimetype": "text/x-r-source",
   "name": "R",
   "pygments_lexer": "r",
   "version": "3.3.2"
  }
 },
 "nbformat": 4,
 "nbformat_minor": 2
}
