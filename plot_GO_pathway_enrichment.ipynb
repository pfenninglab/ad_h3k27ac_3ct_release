{
 "cells": [
  {
   "cell_type": "code",
   "execution_count": 23,
   "metadata": {},
   "outputs": [],
   "source": [
    "import numpy as np\n",
    "import matplotlib.pyplot as plt\n",
    "from matplotlib import rcParams\n",
    "rcParams.update({'figure.autolayout': True})\n",
    "rcParams['svg.fonttype'] = 'none'\n",
    "rcParams['font.size']=10\n",
    "import pandas as pd\n",
    "from scipy import stats"
   ]
  },
  {
   "cell_type": "code",
   "execution_count": 24,
   "metadata": {},
   "outputs": [],
   "source": [
    "glia_hpc_set_file = \"glia_hpc_sex_0_specific_binary_amyloid_down_full_brain_background_Great_GO.txt\"\n",
    "glia_dlpfc_set_file = \"glia_dlpfc_binary_amyloid_up_full_brain_background_Great_GO.txt\"\n",
    "other_amy_assoc_set_file = \"amyloid_associated_peaks_without_two_big_sets_full_brain_background_Great_GO.txt\"\n",
    "\n",
    "all_peaks_file = \"all_amyloid_associated_peaks_full_brain_background_Great_GO.txt\"\n",
    "\n",
    "neuron_specific_file = \"allbr_cell_type_effect_for_neuron_up_full_brain_bg_Great_GO.txt\"\n",
    "microglia_specific_file = \"allbr_cell_type_effect_for_microglia_up_full_brain_bg_Great_GO.txt\"\n",
    "glia_specific_file = \"allbr_cell_type_effect_for_glia_up_full_brain_bg_Great_GO.txt\""
   ]
  },
  {
   "cell_type": "code",
   "execution_count": 25,
   "metadata": {},
   "outputs": [],
   "source": [
    "fileSuffixesList = [glia_hpc_set_file, glia_dlpfc_set_file, other_amy_assoc_set_file, all_peaks_file, neuron_specific_file, microglia_specific_file, glia_specific_file]\n",
    "prefix = \"/great_analysis/\"\n",
    "filesList = [prefix+suffix for suffix in fileSuffixesList]\n",
    "colorList = [\"#ff8c00ff\", \"#990033ff\", \"#154360ff\", 'black',\"#ff9966ff\",\"#006699ff\",\"#009966ff\"]\n",
    "labelsList = [\"Glia Female Hip. Hypoacetylated\", \"Glia dlPFC Hyperacetylated\", \"Other amyloid associated\", \"All amyloid associated\",\"Neuron\", \"Microglia\", \"Oligo\"]"
   ]
  },
  {
   "cell_type": "code",
   "execution_count": 26,
   "metadata": {},
   "outputs": [],
   "source": [
    "pathways_file = \"pathways_to_plot.txt\""
   ]
  },
  {
   "cell_type": "code",
   "execution_count": 27,
   "metadata": {},
   "outputs": [],
   "source": [
    "pathwayNames = dict()\n",
    "with open(pathways_file, 'r') as f:\n",
    "    for line in f:\n",
    "        data = line.strip().split(\"\\t\")\n",
    "        pid = data[1]\n",
    "        pname = data[0]\n",
    "        pathwayNames[pid] = pname"
   ]
  },
  {
   "cell_type": "code",
   "execution_count": 28,
   "metadata": {},
   "outputs": [],
   "source": [
    "pathwayFoldChanges = dict()\n",
    "pathwayFDRValues = dict()\n",
    "for pid in pathwayNames:\n",
    "    pathwayFoldChanges[pid] = [0 for i in range(len(filesList))]\n",
    "    pathwayFDRValues[pid] = [0 for i in range(len(filesList))]"
   ]
  },
  {
   "cell_type": "code",
   "execution_count": 29,
   "metadata": {},
   "outputs": [],
   "source": [
    "pathwayFgRegionHits = dict()\n",
    "pathwayFgGeneHits = dict()\n",
    "for pid in pathwayNames:\n",
    "    pathwayFgRegionHits[pid] = [0 for i in range(len(filesList))]\n",
    "    pathwayFgGeneHits[pid] = [0 for i in range(len(filesList))]"
   ]
  },
  {
   "cell_type": "code",
   "execution_count": 30,
   "metadata": {},
   "outputs": [
    {
     "name": "stderr",
     "output_type": "stream",
     "text": [
      "/home/eramamur/bin/miniconda3/envs/data_analysis/lib/python3.7/site-packages/ipykernel_launcher.py:8: RuntimeWarning: divide by zero encountered in log10\n",
      "  \n"
     ]
    }
   ],
   "source": [
    "for i,filename in enumerate(filesList):\n",
    "    with open(filename, 'r') as f:\n",
    "        for line in f:\n",
    "            if not line.startswith(\"#\"):\n",
    "                data = line.strip().split(\"\\t\")\n",
    "                pid = data[1]\n",
    "                foldEnrich = np.log2(float(data[7]))\n",
    "                negLogFdr = -np.log10(float(data[6]))\n",
    "                fgRegionHits = int(data[9])\n",
    "                fgGeneHits = int(data[13])\n",
    "                if pid in pathwayFoldChanges:\n",
    "                    pathwayFoldChanges[pid][i] = foldEnrich\n",
    "                    pathwayFDRValues[pid][i] = negLogFdr\n",
    "                    pathwayFgRegionHits[pid][i] = fgRegionHits\n",
    "                    pathwayFgGeneHits[pid][i] = fgGeneHits"
   ]
  },
  {
   "cell_type": "code",
   "execution_count": 35,
   "metadata": {},
   "outputs": [],
   "source": [
    "foldChangeData = []\n",
    "for pid in pathwayFoldChanges:\n",
    "    foldChangeData.append(pathwayFoldChanges[pid])\n",
    "    \n",
    "foldChangeData = np.array(foldChangeData)\n",
    "foldChangeDataNormed = foldChangeData"
   ]
  },
  {
   "cell_type": "code",
   "execution_count": 36,
   "metadata": {},
   "outputs": [],
   "source": [
    "fdrData = []\n",
    "fdrStrings = []\n",
    "for pid in pathwayFDRValues:\n",
    "    fdrData.append(pathwayFDRValues[pid])\n",
    "    pidFdrStrings = []\n",
    "    for val in pathwayFDRValues[pid]:\n",
    "        fdr_string = \"\"\n",
    "        if val > -np.log10(0.05):\n",
    "            fdr_string = \"*\"\n",
    "        if val > -np.log10(0.01):\n",
    "            fdr_string = \"**\"        \n",
    "        pidFdrStrings.append(fdr_string)\n",
    "    fdrStrings.append(pidFdrStrings)\n",
    "    \n",
    "fdrData = np.array(fdrData)"
   ]
  },
  {
   "cell_type": "code",
   "execution_count": 42,
   "metadata": {},
   "outputs": [
    {
     "data": {
      "image/png": "[encoded data removed]",
      "text/plain": [
       "<Figure size 432x288 with 2 Axes>"
      ]
     },
     "metadata": {
      "needs_background": "light"
     },
     "output_type": "display_data"
    }
   ],
   "source": [
    "fig, ax = plt.subplots()\n",
    "im=ax.imshow(foldChangeDataNormed, aspect=\"auto\", cmap=\"Reds\")\n",
    "ax.set_yticks(ticks = np.arange(len(pathwayFoldChanges)))\n",
    "ax.set_yticklabels([pid for pid in pathwayFoldChanges])\n",
    "for i in range(len(fdrStrings)):\n",
    "    for j in range(len(fdrStrings[i])):\n",
    "        text = ax.text(j, i, fdrStrings[i][j],\n",
    "                       ha=\"center\", va=\"center\", color=\"white\")\n",
    "cbar = ax.figure.colorbar(im,ax=ax)\n",
    "plt.savefig(\"go_terms.svg\")"
   ]
  },
  {
   "cell_type": "code",
   "execution_count": null,
   "metadata": {},
   "outputs": [],
   "source": []
  }
 ],
 "metadata": {
  "kernelspec": {
   "display_name": "Python [conda env:data_analysis]",
   "language": "python",
   "name": "conda-env-data_analysis-py"
  },
  "language_info": {
   "codemirror_mode": {
    "name": "ipython",
    "version": 3
   },
   "file_extension": ".py",
   "mimetype": "text/x-python",
   "name": "python",
   "nbconvert_exporter": "python",
   "pygments_lexer": "ipython3",
   "version": "3.7.3"
  }
 },
 "nbformat": 4,
 "nbformat_minor": 2
}
