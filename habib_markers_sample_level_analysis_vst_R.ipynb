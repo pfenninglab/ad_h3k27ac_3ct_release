{
 "cells": [
  {
   "cell_type": "code",
   "execution_count": 1,
   "metadata": {},
   "outputs": [
    {
     "name": "stderr",
     "output_type": "stream",
     "text": [
      "Loading required package: S4Vectors\n",
      "Loading required package: stats4\n",
      "Loading required package: BiocGenerics\n",
      "Loading required package: parallel\n",
      "\n",
      "Attaching package: 'BiocGenerics'\n",
      "\n",
      "The following objects are masked from 'package:parallel':\n",
      "\n",
      "    clusterApply, clusterApplyLB, clusterCall, clusterEvalQ,\n",
      "    clusterExport, clusterMap, parApply, parCapply, parLapply,\n",
      "    parLapplyLB, parRapply, parSapply, parSapplyLB\n",
      "\n",
      "The following objects are masked from 'package:stats':\n",
      "\n",
      "    IQR, mad, sd, var, xtabs\n",
      "\n",
      "The following objects are masked from 'package:base':\n",
      "\n",
      "    anyDuplicated, append, as.data.frame, cbind, colMeans, colnames,\n",
      "    colSums, do.call, duplicated, eval, evalq, Filter, Find, get, grep,\n",
      "    grepl, intersect, is.unsorted, lapply, lengths, Map, mapply, match,\n",
      "    mget, order, paste, pmax, pmax.int, pmin, pmin.int, Position, rank,\n",
      "    rbind, Reduce, rowMeans, rownames, rowSums, sapply, setdiff, sort,\n",
      "    table, tapply, union, unique, unsplit, which, which.max, which.min\n",
      "\n",
      "Warning message:\n",
      "\"replacing previous import 'stats::sd' by 'BiocGenerics::sd' when loading 'S4Vectors'\"Warning message:\n",
      "\"replacing previous import 'stats::var' by 'BiocGenerics::var' when loading 'S4Vectors'\"Warning message:\n",
      "\"multiple methods tables found for 'var'\"Warning message:\n",
      "\"multiple methods tables found for 'sd'\"Warning message:\n",
      "\"multiple methods tables found for 'rowSums'\"Warning message:\n",
      "\"multiple methods tables found for 'colSums'\"Warning message:\n",
      "\"multiple methods tables found for 'rowMeans'\"Warning message:\n",
      "\"multiple methods tables found for 'colMeans'\"\n",
      "Attaching package: 'S4Vectors'\n",
      "\n",
      "The following objects are masked from 'package:BiocGenerics':\n",
      "\n",
      "    colMeans, colSums, rowMeans, rowSums\n",
      "\n",
      "The following objects are masked from 'package:base':\n",
      "\n",
      "    colMeans, colSums, expand.grid, rowMeans, rowSums\n",
      "\n",
      "Loading required package: IRanges\n",
      "Warning message:\n",
      "\"replacing previous import 'stats::sd' by 'BiocGenerics::sd' when loading 'IRanges'\"Warning message:\n",
      "\"replacing previous import 'stats::var' by 'BiocGenerics::var' when loading 'IRanges'\"Warning message:\n",
      "\"replacing previous import 'BiocGenerics::rowSums' by 'S4Vectors::rowSums' when loading 'IRanges'\"Warning message:\n",
      "\"replacing previous import 'BiocGenerics::var' by 'S4Vectors::var' when loading 'IRanges'\"Warning message:\n",
      "\"replacing previous import 'BiocGenerics::rowMeans' by 'S4Vectors::rowMeans' when loading 'IRanges'\"Warning message:\n",
      "\"replacing previous import 'BiocGenerics::colSums' by 'S4Vectors::colSums' when loading 'IRanges'\"Warning message:\n",
      "\"replacing previous import 'BiocGenerics::sd' by 'S4Vectors::sd' when loading 'IRanges'\"Warning message:\n",
      "\"replacing previous import 'BiocGenerics::colMeans' by 'S4Vectors::colMeans' when loading 'IRanges'\"Warning message:\n",
      "\"multiple methods tables found for 'var'\"Warning message:\n",
      "\"multiple methods tables found for 'sd'\"Loading required package: GenomicRanges\n",
      "Loading required package: GenomeInfoDb\n",
      "Warning message:\n",
      "\"replacing previous import 'BiocGenerics::rowSums' by 'S4Vectors::rowSums' when loading 'GenomeInfoDb'\"Warning message:\n",
      "\"replacing previous import 'BiocGenerics::var' by 'S4Vectors::var' when loading 'GenomeInfoDb'\"Warning message:\n",
      "\"replacing previous import 'BiocGenerics::rowMeans' by 'S4Vectors::rowMeans' when loading 'GenomeInfoDb'\"Warning message:\n",
      "\"replacing previous import 'BiocGenerics::colSums' by 'S4Vectors::colSums' when loading 'GenomeInfoDb'\"Warning message:\n",
      "\"replacing previous import 'BiocGenerics::sd' by 'S4Vectors::sd' when loading 'GenomeInfoDb'\"Warning message:\n",
      "\"replacing previous import 'BiocGenerics::colMeans' by 'S4Vectors::colMeans' when loading 'GenomeInfoDb'\"Warning message:\n",
      "\"replacing previous import 'BiocGenerics::rowSums' by 'S4Vectors::rowSums' when loading 'GenomicRanges'\"Warning message:\n",
      "\"replacing previous import 'BiocGenerics::var' by 'S4Vectors::var' when loading 'GenomicRanges'\"Warning message:\n",
      "\"replacing previous import 'BiocGenerics::rowMeans' by 'S4Vectors::rowMeans' when loading 'GenomicRanges'\"Warning message:\n",
      "\"replacing previous import 'BiocGenerics::colSums' by 'S4Vectors::colSums' when loading 'GenomicRanges'\"Warning message:\n",
      "\"replacing previous import 'BiocGenerics::sd' by 'S4Vectors::sd' when loading 'GenomicRanges'\"Warning message:\n",
      "\"replacing previous import 'BiocGenerics::colMeans' by 'S4Vectors::colMeans' when loading 'GenomicRanges'\"Warning message:\n",
      "\"replacing previous import 'BiocGenerics::rowSums' by 'S4Vectors::rowSums' when loading 'XVector'\"Warning message:\n",
      "\"replacing previous import 'BiocGenerics::var' by 'S4Vectors::var' when loading 'XVector'\"Warning message:\n",
      "\"replacing previous import 'BiocGenerics::rowMeans' by 'S4Vectors::rowMeans' when loading 'XVector'\"Warning message:\n",
      "\"replacing previous import 'BiocGenerics::colSums' by 'S4Vectors::colSums' when loading 'XVector'\"Warning message:\n",
      "\"replacing previous import 'BiocGenerics::sd' by 'S4Vectors::sd' when loading 'XVector'\"Warning message:\n",
      "\"replacing previous import 'BiocGenerics::colMeans' by 'S4Vectors::colMeans' when loading 'XVector'\"Loading required package: SummarizedExperiment\n",
      "Loading required package: Biobase\n",
      "Welcome to Bioconductor\n",
      "\n",
      "    Vignettes contain introductory material; view with\n",
      "    'browseVignettes()'. To cite Bioconductor, see\n",
      "    'citation(\"Biobase\")', and for packages 'citation(\"pkgname\")'.\n",
      "\n",
      "Warning message:\n",
      "\"replacing previous import 'BiocGenerics::rowSums' by 'S4Vectors::rowSums' when loading 'SummarizedExperiment'\"Warning message:\n",
      "\"replacing previous import 'BiocGenerics::var' by 'S4Vectors::var' when loading 'SummarizedExperiment'\"Warning message:\n",
      "\"replacing previous import 'BiocGenerics::rowMeans' by 'S4Vectors::rowMeans' when loading 'SummarizedExperiment'\"Warning message:\n",
      "\"replacing previous import 'BiocGenerics::colSums' by 'S4Vectors::colSums' when loading 'SummarizedExperiment'\"Warning message:\n",
      "\"replacing previous import 'BiocGenerics::sd' by 'S4Vectors::sd' when loading 'SummarizedExperiment'\"Warning message:\n",
      "\"replacing previous import 'BiocGenerics::colMeans' by 'S4Vectors::colMeans' when loading 'SummarizedExperiment'\"Warning message:\n",
      "\"replacing previous import 'BiocGenerics::var' by 'IRanges::var' when loading 'DESeq2'\"Warning message:\n",
      "\"replacing previous import 'BiocGenerics::sd' by 'IRanges::sd' when loading 'DESeq2'\"Warning message:\n",
      "\"replacing previous import 'BiocGenerics::rowSums' by 'S4Vectors::rowSums' when loading 'DESeq2'\"Warning message:\n",
      "\"replacing previous import 'BiocGenerics::rowMeans' by 'S4Vectors::rowMeans' when loading 'DESeq2'\"Warning message:\n",
      "\"replacing previous import 'BiocGenerics::colSums' by 'S4Vectors::colSums' when loading 'DESeq2'\"Warning message:\n",
      "\"replacing previous import 'BiocGenerics::colMeans' by 'S4Vectors::colMeans' when loading 'DESeq2'\"Warning message:\n",
      "\"replacing previous import 'BiocGenerics::rowSums' by 'S4Vectors::rowSums' when loading 'AnnotationDbi'\"Warning message:\n",
      "\"replacing previous import 'BiocGenerics::var' by 'S4Vectors::var' when loading 'AnnotationDbi'\"Warning message:\n",
      "\"replacing previous import 'BiocGenerics::rowMeans' by 'S4Vectors::rowMeans' when loading 'AnnotationDbi'\"Warning message:\n",
      "\"replacing previous import 'BiocGenerics::colSums' by 'S4Vectors::colSums' when loading 'AnnotationDbi'\"Warning message:\n",
      "\"replacing previous import 'BiocGenerics::sd' by 'S4Vectors::sd' when loading 'AnnotationDbi'\"Warning message:\n",
      "\"replacing previous import 'BiocGenerics::colMeans' by 'S4Vectors::colMeans' when loading 'AnnotationDbi'\"\n",
      "Attaching package: 'gplots'\n",
      "\n",
      "The following object is masked from 'package:IRanges':\n",
      "\n",
      "    space\n",
      "\n",
      "The following object is masked from 'package:S4Vectors':\n",
      "\n",
      "    space\n",
      "\n",
      "The following object is masked from 'package:stats':\n",
      "\n",
      "    lowess\n",
      "\n"
     ]
    }
   ],
   "source": [
    "library(DESeq2)\n",
    "library(gplots)\n",
    "library(RColorBrewer)\n",
    "library(genefilter)\n",
    "library(heatmap3)"
   ]
  },
  {
   "cell_type": "code",
   "execution_count": 2,
   "metadata": {},
   "outputs": [],
   "source": [
    "countsFile <- '/counts/all_samples.countSimp.no_header.txt'\n",
    "sampleInfoFile <- 'all_samples_extended_info.txt'\n",
    "peakIDsFile <- 'dlpfc_hpc_combined_set_combined_200_name.saf'"
   ]
  },
  {
   "cell_type": "code",
   "execution_count": 3,
   "metadata": {},
   "outputs": [
    {
     "data": {
      "text/html": [
       "FALSE"
      ],
      "text/latex": [
       "FALSE"
      ],
      "text/markdown": [
       "FALSE"
      ],
      "text/plain": [
       "[1] FALSE"
      ]
     },
     "metadata": {},
     "output_type": "display_data"
    },
    {
     "data": {
      "text/html": [
       "TRUE"
      ],
      "text/latex": [
       "TRUE"
      ],
      "text/markdown": [
       "TRUE"
      ],
      "text/plain": [
       "[1] TRUE"
      ]
     },
     "metadata": {},
     "output_type": "display_data"
    }
   ],
   "source": [
    "countMatrix <- read.table(countsFile, header = FALSE, sep = \"\\t\", skip = 0)\n",
    "sampleInfo <- read.table(sampleInfoFile, header = TRUE, row.names=1, sep = \"\\t\", skip=0)\n",
    "peakInfo <- read.table(peakIDsFile, header = FALSE, row.names=1, sep = \"\\t\", skip=0)\n",
    "\n",
    "#making sure the row names are valid variable names, essential for row names and column names to match\n",
    "rownames(sampleInfo) <- make.names(rownames(sampleInfo))\n",
    "all(rownames(sampleInfo) == colnames(countMatrix))\n",
    "colnames(countMatrix) <- rownames(sampleInfo)\n",
    "all(rownames(sampleInfo) == colnames(countMatrix))"
   ]
  },
  {
   "cell_type": "code",
   "execution_count": 4,
   "metadata": {},
   "outputs": [],
   "source": [
    "sampleInfo$proj_id <- factor(sampleInfo$proj_id)\n",
    "sampleInfo$cell_type <- factor(sampleInfo$cell_type)\n",
    "sampleInfo$brain_region <- factor(sampleInfo$brain_region)\n",
    "sampleInfo$attempt <- factor(sampleInfo$attempt)\n",
    "sampleInfo$replicate <- factor(sampleInfo$replicate)\n",
    "sampleInfo$binary_amyloid <- factor(sampleInfo$binary_amyloid)\n",
    "sampleInfo$msex <- factor(sampleInfo$msex)\n",
    "sampleInfo$is_microglia <- factor(as.integer(sampleInfo$cell_type == \"Microglia\"))\n",
    "sampleInfo$is_glia <- factor(as.integer(sampleInfo$cell_type == \"Glia\"))\n",
    "sampleInfo$is_neuron <- factor(as.integer(sampleInfo$cell_type == \"Neuron\"))"
   ]
  },
  {
   "cell_type": "code",
   "execution_count": 6,
   "metadata": {},
   "outputs": [],
   "source": [
    "countMatrix <- countMatrix[,rownames(sampleInfo)]"
   ]
  },
  {
   "cell_type": "code",
   "execution_count": 7,
   "metadata": {},
   "outputs": [
    {
     "data": {
      "text/html": [
       "TRUE"
      ],
      "text/latex": [
       "TRUE"
      ],
      "text/markdown": [
       "TRUE"
      ],
      "text/plain": [
       "[1] TRUE"
      ]
     },
     "metadata": {},
     "output_type": "display_data"
    }
   ],
   "source": [
    "all(rownames(sampleInfo) == colnames(countMatrix))"
   ]
  },
  {
   "cell_type": "code",
   "execution_count": 8,
   "metadata": {},
   "outputs": [
    {
     "data": {
      "text/plain": [
       "class: DESeqDataSet \n",
       "dim: 352012 155 \n",
       "metadata(1): version\n",
       "assays(1): counts\n",
       "rownames: NULL\n",
       "rowData names(0):\n",
       "colnames(155): X10290265_Neuron_HPC_1_1 X10290265_Neuron_HPC_1_2 ...\n",
       "  X21142003_Neuron_DLPFC_1_1 X21142003_Neuron_DLPFC_1_2\n",
       "colData names(22): proj_id cell_type ... is_glia is_neuron"
      ]
     },
     "metadata": {},
     "output_type": "display_data"
    }
   ],
   "source": [
    "dds <-  DESeqDataSetFromMatrix(countData = countMatrix,\n",
    "                              colData = sampleInfo,\n",
    "                              design = ~ binary_amyloid)\n",
    "dds"
   ]
  },
  {
   "cell_type": "code",
   "execution_count": 9,
   "metadata": {},
   "outputs": [],
   "source": [
    "ddsCollapsed <- collapseReplicates( dds,\n",
    "                                   groupby = make.names(paste(dds$proj_id,dds$brain_region, dds$cell_type,sep=\"_\")))"
   ]
  },
  {
   "cell_type": "code",
   "execution_count": 10,
   "metadata": {},
   "outputs": [
    {
     "name": "stderr",
     "output_type": "stream",
     "text": [
      "-- note: fitType='parametric', but the dispersion trend was not well captured by the\n",
      "   function: y = a/x + b, and a local regression fit was automatically substituted.\n",
      "   specify fitType='local' or 'mean' to avoid this message next time.\n"
     ]
    }
   ],
   "source": [
    "count_vst <- assay(vst(ddsCollapsed))"
   ]
  },
  {
   "cell_type": "code",
   "execution_count": 13,
   "metadata": {},
   "outputs": [],
   "source": [
    "rownames(count_vst) <- rownames(peakInfo)"
   ]
  },
  {
   "cell_type": "code",
   "execution_count": 14,
   "metadata": {},
   "outputs": [],
   "source": [
    "asc1_markers <- scan(\"/habib_markers_analysis/dlpfc_hpc_peaks_corresponding_to_habib_ASC1_markers.txt\", what=character())\n",
    "asc2_markers <- scan(\"/habib_markers_analysis/dlpfc_hpc_peaks_corresponding_to_habib_ASC2_markers.txt\", what=character())\n",
    "end_markers <- scan(\"/habib_markers_analysis/dlpfc_hpc_peaks_corresponding_to_habib_END_markers.txt\", what=character())\n",
    "exca1_markers <- scan(\"/habib_markers_analysis/dlpfc_hpc_peaks_corresponding_to_habib_exCA1_markers.txt\", what=character())\n",
    "exca3_markers <- scan(\"/habib_markers_analysis/dlpfc_hpc_peaks_corresponding_to_habib_exCA3_markers.txt\", what=character())\n",
    "exdg_markers <- scan(\"/habib_markers_analysis/dlpfc_hpc_peaks_corresponding_to_habib_exDG_markers.txt\", what=character())\n",
    "expfc1_markers <- scan(\"/habib_markers_analysis/dlpfc_hpc_peaks_corresponding_to_habib_exPFC1_markers.txt\", what=character())\n",
    "expfc2_markers <- scan(\"/habib_markers_analysis/dlpfc_hpc_peaks_corresponding_to_habib_exPFC2_markers.txt\", what=character())\n",
    "gaba1_markers <- scan(\"/habib_markers_analysis/dlpfc_hpc_peaks_corresponding_to_habib_GABA1_markers.txt\", what=character())\n",
    "gaba2_markers <- scan(\"/habib_markers_analysis/dlpfc_hpc_peaks_corresponding_to_habib_GABA2_markers.txt\", what=character())\n",
    "mg_markers <- scan(\"/habib_markers_analysis/dlpfc_hpc_peaks_corresponding_to_habib_MG_markers.txt\", what=character())\n",
    "nsc_markers <- scan(\"/habib_markers_analysis/dlpfc_hpc_peaks_corresponding_to_habib_NSC_markers.txt\", what=character())\n",
    "odc1_markers <- scan(\"/habib_markers_analysis/dlpfc_hpc_peaks_corresponding_to_habib_ODC1_markers.txt\", what=character())\n",
    "odc2_markers <- scan(\"/habib_markers_analysis/dlpfc_hpc_peaks_corresponding_to_habib_ODC2_markers.txt\", what=character())\n",
    "opc_markers <- scan(\"/habib_markers_analysis/dlpfc_hpc_peaks_corresponding_to_habib_OPC_markers.txt\", what=character())"
   ]
  },
  {
   "cell_type": "code",
   "execution_count": 15,
   "metadata": {},
   "outputs": [],
   "source": [
    "sampleInfo <- colData(ddsCollapsed)\n",
    "sampleInfoSorted <- sampleInfo[order(sampleInfo$cell_type, sampleInfo$brain_region),]"
   ]
  },
  {
   "cell_type": "code",
   "execution_count": 16,
   "metadata": {},
   "outputs": [],
   "source": [
    "count_vst <- count_vst[,rownames(sampleInfoSorted)]"
   ]
  },
  {
   "cell_type": "code",
   "execution_count": 17,
   "metadata": {},
   "outputs": [],
   "source": [
    "markers_list <- c(expfc1_markers,\n",
    "                  expfc2_markers,\n",
    "                  exca1_markers,\n",
    "                  exca3_markers,\n",
    "                  exdg_markers,\n",
    "                  gaba1_markers,\n",
    "                  gaba2_markers,\n",
    "                  mg_markers,\n",
    "                  odc1_markers,\n",
    "                  odc2_markers,\n",
    "                  opc_markers,\n",
    "                  asc1_markers,\n",
    "                  asc2_markers,\n",
    "                  nsc_markers,\n",
    "                  end_markers)\n",
    "\n",
    "markers_colors <- c(rep(\"brown\", length(expfc1_markers)),\n",
    "                    rep(\"brown1\", length(expfc2_markers)),\n",
    "                    rep(\"brown2\", length(exca1_markers)),\n",
    "                    rep(\"brown3\", length(exca3_markers)),\n",
    "                    rep(\"coral\", length(exdg_markers)),\n",
    "                    rep(\"coral1\", length(gaba1_markers)),\n",
    "                    rep(\"coral2\", length(gaba2_markers)),\n",
    "                    rep(\"blue\", length(mg_markers)),\n",
    "                    rep(\"chocolate\", length(odc1_markers)),\n",
    "                    rep(\"chocolate1\", length(odc2_markers)),\n",
    "                    rep(\"chocolate4\", length(opc_markers)),\n",
    "                    rep(\"darkorchid\", length(asc1_markers)),\n",
    "                    rep(\"darkorchid4\", length(asc2_markers)),\n",
    "                    rep(\"cornsilk\", length(nsc_markers)),\n",
    "                    rep(\"darkgoldenrod\", length(end_markers))\n",
    "                    )"
   ]
  },
  {
   "cell_type": "code",
   "execution_count": 18,
   "metadata": {},
   "outputs": [],
   "source": [
    "count_vst <- count_vst[markers_list,]"
   ]
  },
  {
   "cell_type": "code",
   "execution_count": 19,
   "metadata": {},
   "outputs": [
    {
     "data": {
      "text/html": [
       "<strong>png:</strong> 2"
      ],
      "text/latex": [
       "\\textbf{png:} 2"
      ],
      "text/markdown": [
       "**png:** 2"
      ],
      "text/plain": [
       "png \n",
       "  2 "
      ]
     },
     "metadata": {},
     "output_type": "display_data"
    }
   ],
   "source": [
    "########### Gets breaks to use for heatmap #############\n",
    "#num is how mnany values you want on each side of 0\n",
    "getBreaks2 <- function(absMax,num){\n",
    "    x <- c(-num:num)\n",
    "    y <- x*(absMax/num);\n",
    "    return(y);\n",
    "}\n",
    "\n",
    "curQuantV <- quantile(abs(count_vst),c(0:100)*.01)\n",
    "curPlotBkV <- getBreaks2(curQuantV[95],20);\n",
    "pdf(\"markers_heatmap.pdf\")\n",
    "heatmap3(count_vst,Colv=NA, Rowv=NA, scale=\"row\",\n",
    "                labRow=\"\",\n",
    "                labCol=\"\",\n",
    "                col=colorRampPalette(c(\"blue\",\"white\",\"red\"))(length(curPlotBkV)-1),\n",
    "                ColSideColors=topo.colors(3)[sampleInfoSorted$brain_region],\n",
    "                RowSideColors=markers_colors,\n",
    "                useRaster = F,\n",
    "                breaks=curPlotBkV, mar=c(15,10), cexRow=1.2, cexCol=1.2, cex.axis=1.2\n",
    "                );\n",
    "dev.off()"
   ]
  },
  {
   "cell_type": "code",
   "execution_count": 20,
   "metadata": {},
   "outputs": [],
   "source": [
    "write.table(count_vst, file=\"/habib_markers_analysis/habib_marker_peaks_vst_count_matrix.txt\", sep=\"\\t\", row.names=TRUE, col.names=TRUE)\n",
    "write.table(sampleInfoSorted, file=\"/habib_markers_analysis/habib_marker_peaks_sample_info_sorted.txt\", sep=\"\\t\", row.names=TRUE, col.names=TRUE)"
   ]
  },
  {
   "cell_type": "code",
   "execution_count": 21,
   "metadata": {},
   "outputs": [
    {
     "name": "stdout",
     "output_type": "stream",
     "text": [
      "[1] 3389\n",
      "[1] 1922\n",
      "[1] 2887\n",
      "[1] 4010\n",
      "[1] 5542\n",
      "[1] 3410\n",
      "[1] 4262\n",
      "[1] 2078\n",
      "[1] 2900\n",
      "[1] 4751\n",
      "[1] 1457\n",
      "[1] 2422\n",
      "[1] 3172\n",
      "[1] 5373\n",
      "[1] 5573\n"
     ]
    }
   ],
   "source": [
    "print(length(expfc1_markers))\n",
    "print(length(expfc2_markers))\n",
    "print(length(exca1_markers))\n",
    "print(length(exca3_markers))\n",
    "print(length(exdg_markers))\n",
    "print(length(gaba1_markers))\n",
    "print(length(gaba2_markers))\n",
    "print(length(mg_markers))\n",
    "print(length(odc1_markers))\n",
    "print(length(odc2_markers))\n",
    "print(length(opc_markers))\n",
    "print(length(asc1_markers))\n",
    "print(length(asc2_markers))\n",
    "print(length(nsc_markers))\n",
    "print(length(end_markers))"
   ]
  },
  {
   "cell_type": "code",
   "execution_count": null,
   "metadata": {},
   "outputs": [],
   "source": []
  }
 ],
 "metadata": {
  "kernelspec": {
   "display_name": "R [conda env:r-environment]",
   "language": "R",
   "name": "conda-env-r-environment-r"
  },
  "language_info": {
   "codemirror_mode": "r",
   "file_extension": ".r",
   "mimetype": "text/x-r-source",
   "name": "R",
   "pygments_lexer": "r",
   "version": "3.3.2"
  }
 },
 "nbformat": 4,
 "nbformat_minor": 2
}
