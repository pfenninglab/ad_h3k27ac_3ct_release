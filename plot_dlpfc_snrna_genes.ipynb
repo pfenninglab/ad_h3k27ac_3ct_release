{
 "cells": [
  {
   "cell_type": "code",
   "execution_count": 1,
   "metadata": {},
   "outputs": [],
   "source": [
    "import numpy as np\n",
    "import matplotlib.pyplot as plt\n",
    "from matplotlib import rcParams\n",
    "rcParams.update({'figure.autolayout': True})\n",
    "rcParams['svg.fonttype'] = 'none'\n",
    "rcParams['font.size']=10\n",
    "import pandas as pd\n",
    "from scipy import stats"
   ]
  },
  {
   "cell_type": "code",
   "execution_count": 2,
   "metadata": {},
   "outputs": [],
   "source": [
    "geneNames = []\n",
    "genes_to_plot_file = \"dlpfc_snrna_seq_genes_to_plot.txt\"\n",
    "with open(genes_to_plot_file, 'r') as f:\n",
    "    for line in f:\n",
    "        geneName = line.strip()\n",
    "        geneNames.append(geneName)"
   ]
  },
  {
   "cell_type": "code",
   "execution_count": null,
   "metadata": {},
   "outputs": [],
   "source": [
    "oli_deg_no_vs_path_file = \"/mathys_snrna_analysis/dlpfc_snrnaseq_oli_degs.txt\"\n",
    "oli_deg_no_vs_early_file = \"/mathys_snrna_analysis/dlpfc_snrnaseq_oli_degs_no_vs_early.txt\""
   ]
  },
  {
   "cell_type": "code",
   "execution_count": 4,
   "metadata": {},
   "outputs": [],
   "source": [
    "oli_deg_no_vs_path_data = pd.read_csv(oli_deg_no_vs_path_file, sep=\"\\t\", index_col=0)\n",
    "oli_deg_no_vs_early_data = pd.read_csv(oli_deg_no_vs_early_file, sep=\"\\t\", index_col=0)"
   ]
  },
  {
   "cell_type": "code",
   "execution_count": 5,
   "metadata": {},
   "outputs": [],
   "source": [
    "oligenel2FCs = []\n",
    "oligeneIndModelFDRs = []\n",
    "oligeneBaseMeans = []\n",
    "oligeneConditionMeans = []\n",
    "for geneName in geneNames:\n",
    "    novsPathgeneData = oli_deg_no_vs_path_data.loc[geneName]\n",
    "    novsEarlygeneData = oli_deg_no_vs_early_data.loc[geneName]\n",
    "    \n",
    "    \n",
    "    \n",
    "    oligenel2FCs.append(float(novsPathgeneData[\"IndModel.FC\"]))\n",
    "    oligenel2FCs.append(float(novsEarlygeneData[\"IndModel.FC\"]))\n",
    "    \n",
    "    oligeneIndModelFDRs.append(-np.log10(float(novsPathgeneData[\"IndModel.adj.pvals\"])))\n",
    "    oligeneIndModelFDRs.append(-np.log10(float(novsEarlygeneData[\"IndModel.adj.pvals\"])))\n",
    "    \n",
    "    oligeneBaseMeans.append(float(novsPathgeneData[\"no.pathology.mean\"]))\n",
    "    oligeneBaseMeans.append(float(novsEarlygeneData[\"early.pathology.mean\"]))\n",
    "    oligeneBaseMeans.append(float(novsPathgeneData[\"pathology.mean\"]))"
   ]
  },
  {
   "cell_type": "code",
   "execution_count": 7,
   "metadata": {},
   "outputs": [
    {
     "data": {
      "image/png": "[encoded data removed]",
      "text/plain": [
       "<Figure size 432x288 with 1 Axes>"
      ]
     },
     "metadata": {
      "needs_background": "light"
     },
     "output_type": "display_data"
    }
   ],
   "source": [
    "plt.xticks([0.5+val for val in range(0,len(geneNames)*2,2)],labels=geneNames)\n",
    "plt.ylabel(\"log2fc\")\n",
    "plt.bar(range(len(geneNames)*2),oligenel2FCs, color=[\"#0085ffff\" if i%2==0 else \"#0000abff\" for i in range(len(oligenel2FCs))])\n",
    "plt.axhline(0, c='k', linestyle='dashed')\n",
    "plt.ylim(-1,1)\n",
    "plt.savefig(\"dlpfc_selected_genes_l2fcs.svg\")"
   ]
  },
  {
   "cell_type": "code",
   "execution_count": 8,
   "metadata": {},
   "outputs": [
    {
     "data": {
      "text/plain": [
       "<BarContainer object of 14 artists>"
      ]
     },
     "execution_count": 8,
     "metadata": {},
     "output_type": "execute_result"
    },
    {
     "data": {
      "image/png": "[encoded data removed]",
      "text/plain": [
       "<Figure size 432x288 with 1 Axes>"
      ]
     },
     "metadata": {
      "needs_background": "light"
     },
     "output_type": "display_data"
    }
   ],
   "source": [
    "plt.xticks([0.5+val for val in range(0,len(geneNames)*2,2)],labels=geneNames)\n",
    "plt.bar(range(len(geneNames)*2),oligeneIndModelFDRs)"
   ]
  }
 ],
 "metadata": {
  "kernelspec": {
   "display_name": "Python [conda env:data_analysis]",
   "language": "python",
   "name": "conda-env-data_analysis-py"
  },
  "language_info": {
   "codemirror_mode": {
    "name": "ipython",
    "version": 3
   },
   "file_extension": ".py",
   "mimetype": "text/x-python",
   "name": "python",
   "nbconvert_exporter": "python",
   "pygments_lexer": "ipython3",
   "version": "3.7.3"
  }
 },
 "nbformat": 4,
 "nbformat_minor": 2
}
