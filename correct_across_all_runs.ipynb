{
 "cells": [
  {
   "cell_type": "code",
   "execution_count": 1,
   "metadata": {},
   "outputs": [],
   "source": [
    "from statsmodels.stats.multitest import multipletests\n",
    "import pandas as pd\n",
    "import os\n",
    "import matplotlib.pyplot as plt\n",
    "from scipy.stats import spearmanr, pearsonr"
   ]
  },
  {
   "cell_type": "code",
   "execution_count": 2,
   "metadata": {},
   "outputs": [],
   "source": [
    "rootPath = \"/deseq_analysis/\""
   ]
  },
  {
   "cell_type": "code",
   "execution_count": 3,
   "metadata": {},
   "outputs": [],
   "source": [
    "filenamesfile = \"deseq_results_filenames.txt\""
   ]
  },
  {
   "cell_type": "code",
   "execution_count": 4,
   "metadata": {},
   "outputs": [],
   "source": [
    "filenameslist = []"
   ]
  },
  {
   "cell_type": "code",
   "execution_count": 5,
   "metadata": {},
   "outputs": [],
   "source": [
    "with open(filenamesfile, 'r') as f:\n",
    "    for line in f:\n",
    "        filenameslist.append(os.path.join(rootPath,\n",
    "                                          line.strip()))"
   ]
  },
  {
   "cell_type": "code",
   "execution_count": 6,
   "metadata": {},
   "outputs": [],
   "source": [
    "glia_hpc_sex_0_results_file_suffix = \"sex_specific_amyloid_deseq/glia_hpc_sex_0_specific_binary_amyloid_results_sorted.txt\"\n",
    "glia_hpc_sex_0_results_file_name = os.path.join(rootPath,glia_hpc_sex_0_results_file_suffix)\n",
    "\n",
    "glia_dlpfc_sex_0_results_file_suffix = \"sex_specific_amyloid_deseq/glia_dlpfc_sex_0_specific_binary_amyloid_results_sorted.txt\"\n",
    "glia_dlpfc_sex_0_results_file_name = os.path.join(rootPath,glia_dlpfc_sex_0_results_file_suffix)\n",
    "\n",
    "\n",
    "glia_dlpfc_results_file_suffix = \"binary_amyloid_deseq/glia_dlpfc_binary_amyloid_results_sorted.txt\"\n",
    "glia_dlpfc_results_file_name = os.path.join(rootPath,glia_dlpfc_results_file_suffix)\n",
    "\n",
    "glia_hpc_results_file_suffix = \"binary_amyloid_deseq/glia_hpc_binary_amyloid_results_sorted.txt\"\n",
    "glia_hpc_results_file_name = os.path.join(rootPath,glia_hpc_results_file_suffix)"
   ]
  },
  {
   "cell_type": "code",
   "execution_count": 7,
   "metadata": {},
   "outputs": [],
   "source": [
    "pvaluestable = pd.DataFrame(columns = [\"Membership\", \"pvalue\", \"peakID\"])"
   ]
  },
  {
   "cell_type": "code",
   "execution_count": 8,
   "metadata": {},
   "outputs": [],
   "source": [
    "for filename in filenameslist:\n",
    "    data = pd.read_csv(filename, sep='\\t')\n",
    "    pvals = list(data[\"pvalue\"])\n",
    "    peakIds = list(data.index)\n",
    "    membership = 0\n",
    "    if filename == glia_hpc_sex_0_results_file_name:\n",
    "        membership = 1\n",
    "    elif filename == glia_dlpfc_results_file_name:\n",
    "        membership = 2\n",
    "    num_results = data.shape[0]\n",
    "    extra = {'Membership': [membership]*num_results, 'pvalue': pvals, 'peakID': peakIds}\n",
    "    pvaluestable = pvaluestable.append(pd.DataFrame(extra))"
   ]
  },
  {
   "cell_type": "code",
   "execution_count": 9,
   "metadata": {},
   "outputs": [],
   "source": [
    "final_pvals = list(pvaluestable[\"pvalue\"])"
   ]
  },
  {
   "cell_type": "code",
   "execution_count": 10,
   "metadata": {},
   "outputs": [],
   "source": [
    "correction_result = multipletests(final_pvals, alpha=0.05, method='fdr_bh', is_sorted=False, returnsorted=False)"
   ]
  },
  {
   "cell_type": "code",
   "execution_count": 11,
   "metadata": {},
   "outputs": [],
   "source": [
    "pvaluestable[\"padj\"] = correction_result[1]"
   ]
  },
  {
   "cell_type": "code",
   "execution_count": 12,
   "metadata": {},
   "outputs": [
    {
     "data": {
      "text/plain": [
       "(13394888, 4)"
      ]
     },
     "execution_count": 12,
     "metadata": {},
     "output_type": "execute_result"
    }
   ],
   "source": [
    "pvaluestable.shape"
   ]
  },
  {
   "cell_type": "code",
   "execution_count": 13,
   "metadata": {},
   "outputs": [
    {
     "data": {
      "text/plain": [
       "(24424, 4)"
      ]
     },
     "execution_count": 13,
     "metadata": {},
     "output_type": "execute_result"
    }
   ],
   "source": [
    "(pvaluestable.loc[pvaluestable[\"Membership\"]==1]).shape"
   ]
  },
  {
   "cell_type": "code",
   "execution_count": 14,
   "metadata": {},
   "outputs": [],
   "source": [
    "glia_hpc_sex_0_specific_results_pvaluestable = pvaluestable.loc[pvaluestable[\"Membership\"]==1]\n",
    "glia_dlpfc_results_pvaluestable = pvaluestable.loc[pvaluestable[\"Membership\"]==2]"
   ]
  },
  {
   "cell_type": "code",
   "execution_count": 15,
   "metadata": {},
   "outputs": [
    {
     "data": {
      "text/html": [
       "<div>\n",
       "<style scoped>\n",
       "    .dataframe tbody tr th:only-of-type {\n",
       "        vertical-align: middle;\n",
       "    }\n",
       "\n",
       "    .dataframe tbody tr th {\n",
       "        vertical-align: top;\n",
       "    }\n",
       "\n",
       "    .dataframe thead th {\n",
       "        text-align: right;\n",
       "    }\n",
       "</style>\n",
       "<table border=\"1\" class=\"dataframe\">\n",
       "  <thead>\n",
       "    <tr style=\"text-align: right;\">\n",
       "      <th></th>\n",
       "      <th>Membership</th>\n",
       "      <th>pvalue</th>\n",
       "      <th>peakID</th>\n",
       "      <th>padj</th>\n",
       "    </tr>\n",
       "  </thead>\n",
       "  <tbody>\n",
       "    <tr>\n",
       "      <th>0</th>\n",
       "      <td>1</td>\n",
       "      <td>4.548183e-11</td>\n",
       "      <td>LHTPFCHPC000000000317596</td>\n",
       "      <td>0.000004</td>\n",
       "    </tr>\n",
       "    <tr>\n",
       "      <th>1</th>\n",
       "      <td>1</td>\n",
       "      <td>1.051237e-08</td>\n",
       "      <td>LHTPFCHPC000000000051149</td>\n",
       "      <td>0.000618</td>\n",
       "    </tr>\n",
       "    <tr>\n",
       "      <th>2</th>\n",
       "      <td>1</td>\n",
       "      <td>6.970243e-08</td>\n",
       "      <td>LHTPFCHPC000000000311581</td>\n",
       "      <td>0.003144</td>\n",
       "    </tr>\n",
       "    <tr>\n",
       "      <th>3</th>\n",
       "      <td>1</td>\n",
       "      <td>4.228722e-07</td>\n",
       "      <td>LHTPFCHPC000000000214719</td>\n",
       "      <td>0.014945</td>\n",
       "    </tr>\n",
       "    <tr>\n",
       "      <th>4</th>\n",
       "      <td>1</td>\n",
       "      <td>1.061273e-06</td>\n",
       "      <td>LHTPFCHPC000000000114043</td>\n",
       "      <td>0.029740</td>\n",
       "    </tr>\n",
       "    <tr>\n",
       "      <th>5</th>\n",
       "      <td>1</td>\n",
       "      <td>1.120957e-06</td>\n",
       "      <td>LHTPFCHPC000000000339447</td>\n",
       "      <td>0.030959</td>\n",
       "    </tr>\n",
       "  </tbody>\n",
       "</table>\n",
       "</div>"
      ],
      "text/plain": [
       "  Membership        pvalue                    peakID      padj\n",
       "0          1  4.548183e-11  LHTPFCHPC000000000317596  0.000004\n",
       "1          1  1.051237e-08  LHTPFCHPC000000000051149  0.000618\n",
       "2          1  6.970243e-08  LHTPFCHPC000000000311581  0.003144\n",
       "3          1  4.228722e-07  LHTPFCHPC000000000214719  0.014945\n",
       "4          1  1.061273e-06  LHTPFCHPC000000000114043  0.029740\n",
       "5          1  1.120957e-06  LHTPFCHPC000000000339447  0.030959"
      ]
     },
     "execution_count": 15,
     "metadata": {},
     "output_type": "execute_result"
    }
   ],
   "source": [
    "glia_hpc_sex_0_specific_results_pvaluestable.loc[glia_hpc_sex_0_specific_results_pvaluestable[\"padj\"]<0.05]"
   ]
  },
  {
   "cell_type": "code",
   "execution_count": 16,
   "metadata": {},
   "outputs": [
    {
     "data": {
      "text/html": [
       "<div>\n",
       "<style scoped>\n",
       "    .dataframe tbody tr th:only-of-type {\n",
       "        vertical-align: middle;\n",
       "    }\n",
       "\n",
       "    .dataframe tbody tr th {\n",
       "        vertical-align: top;\n",
       "    }\n",
       "\n",
       "    .dataframe thead th {\n",
       "        text-align: right;\n",
       "    }\n",
       "</style>\n",
       "<table border=\"1\" class=\"dataframe\">\n",
       "  <thead>\n",
       "    <tr style=\"text-align: right;\">\n",
       "      <th></th>\n",
       "      <th>Membership</th>\n",
       "      <th>pvalue</th>\n",
       "      <th>peakID</th>\n",
       "      <th>padj</th>\n",
       "    </tr>\n",
       "  </thead>\n",
       "  <tbody>\n",
       "    <tr>\n",
       "      <th>0</th>\n",
       "      <td>2</td>\n",
       "      <td>2.903506e-85</td>\n",
       "      <td>LHTPFCHPC000000000128659</td>\n",
       "      <td>3.889213e-78</td>\n",
       "    </tr>\n",
       "    <tr>\n",
       "      <th>1</th>\n",
       "      <td>2</td>\n",
       "      <td>7.279996e-08</td>\n",
       "      <td>LHTPFCHPC000000000146887</td>\n",
       "      <td>3.272307e-03</td>\n",
       "    </tr>\n",
       "    <tr>\n",
       "      <th>2</th>\n",
       "      <td>2</td>\n",
       "      <td>1.425682e-07</td>\n",
       "      <td>LHTPFCHPC000000000212359</td>\n",
       "      <td>5.822210e-03</td>\n",
       "    </tr>\n",
       "    <tr>\n",
       "      <th>3</th>\n",
       "      <td>2</td>\n",
       "      <td>1.919526e-06</td>\n",
       "      <td>LHTPFCHPC000000000107851</td>\n",
       "      <td>4.788051e-02</td>\n",
       "    </tr>\n",
       "    <tr>\n",
       "      <th>5</th>\n",
       "      <td>2</td>\n",
       "      <td>1.499510e-06</td>\n",
       "      <td>LHTPFCHPC000000000192396</td>\n",
       "      <td>3.909359e-02</td>\n",
       "    </tr>\n",
       "  </tbody>\n",
       "</table>\n",
       "</div>"
      ],
      "text/plain": [
       "  Membership        pvalue                    peakID          padj\n",
       "0          2  2.903506e-85  LHTPFCHPC000000000128659  3.889213e-78\n",
       "1          2  7.279996e-08  LHTPFCHPC000000000146887  3.272307e-03\n",
       "2          2  1.425682e-07  LHTPFCHPC000000000212359  5.822210e-03\n",
       "3          2  1.919526e-06  LHTPFCHPC000000000107851  4.788051e-02\n",
       "5          2  1.499510e-06  LHTPFCHPC000000000192396  3.909359e-02"
      ]
     },
     "execution_count": 16,
     "metadata": {},
     "output_type": "execute_result"
    }
   ],
   "source": [
    "glia_dlpfc_results_pvaluestable.loc[glia_dlpfc_results_pvaluestable[\"padj\"]<0.05]"
   ]
  },
  {
   "cell_type": "code",
   "execution_count": 17,
   "metadata": {},
   "outputs": [],
   "source": [
    "glia_hpc_sex_0_specific_binary_amyloid_results = pd.read_csv(glia_hpc_sex_0_results_file_name, sep='\\t')\n",
    "glia_dlpfc_sex_0_specific_binary_amyloid_results = pd.read_csv(glia_dlpfc_sex_0_results_file_name, sep='\\t')"
   ]
  },
  {
   "cell_type": "code",
   "execution_count": 18,
   "metadata": {},
   "outputs": [
    {
     "data": {
      "text/plain": [
       "(24424, 6)"
      ]
     },
     "execution_count": 18,
     "metadata": {},
     "output_type": "execute_result"
    }
   ],
   "source": [
    "glia_hpc_sex_0_specific_binary_amyloid_results.shape"
   ]
  },
  {
   "cell_type": "code",
   "execution_count": 19,
   "metadata": {},
   "outputs": [
    {
     "data": {
      "text/plain": [
       "(242716, 6)"
      ]
     },
     "execution_count": 19,
     "metadata": {},
     "output_type": "execute_result"
    }
   ],
   "source": [
    "glia_dlpfc_sex_0_specific_binary_amyloid_results.shape"
   ]
  },
  {
   "cell_type": "code",
   "execution_count": 20,
   "metadata": {},
   "outputs": [],
   "source": [
    "merged_table_glia_hpc_sex_0 = glia_dlpfc_sex_0_specific_binary_amyloid_results.join(glia_hpc_sex_0_specific_binary_amyloid_results,\n",
    "                                                      how='inner',\n",
    "                                                      lsuffix='dlpfc',\n",
    "                                                      rsuffix='hpc')"
   ]
  },
  {
   "cell_type": "code",
   "execution_count": 21,
   "metadata": {},
   "outputs": [
    {
     "data": {
      "text/plain": [
       "(24419, 12)"
      ]
     },
     "execution_count": 21,
     "metadata": {},
     "output_type": "execute_result"
    }
   ],
   "source": [
    "merged_table_glia_hpc_sex_0.shape"
   ]
  },
  {
   "cell_type": "code",
   "execution_count": 22,
   "metadata": {},
   "outputs": [
    {
     "data": {
      "text/plain": [
       "Text(0.5, 1.0, 'log2fc comparison hpc oeg female analysis (all peaks passing ind. criteria DESeq2)')"
      ]
     },
     "execution_count": 22,
     "metadata": {},
     "output_type": "execute_result"
    },
    {
     "data": {
      "image/png": "[encoded data removed]",
      "text/plain": [
       "<Figure size 432x288 with 1 Axes>"
      ]
     },
     "metadata": {
      "needs_background": "light"
     },
     "output_type": "display_data"
    }
   ],
   "source": [
    "plt.scatter(merged_table_glia_hpc_sex_0[\"log2FoldChangehpc\"], merged_table_glia_hpc_sex_0[\"log2FoldChangedlpfc\"])\n",
    "plt.axhline(y=0, c='k', linestyle='--')\n",
    "plt.axvline(x=0, c='k', linestyle='--')\n",
    "plt.xlabel(\"log2fc_hpc_oeg_female_samples\")\n",
    "plt.ylabel(\"log2fc_dlpfc_oeg_female_samples\")\n",
    "plt.title(\"log2fc comparison hpc oeg female analysis (all peaks passing ind. criteria DESeq2)\")"
   ]
  },
  {
   "cell_type": "code",
   "execution_count": 23,
   "metadata": {},
   "outputs": [
    {
     "name": "stdout",
     "output_type": "stream",
     "text": [
      "(0.06580284499043122, 7.549148031092471e-25)\n",
      "SpearmanrResult(correlation=0.03470879366479769, pvalue=5.7904518250357045e-08)\n"
     ]
    }
   ],
   "source": [
    "print(pearsonr(merged_table_glia_hpc_sex_0[\"log2FoldChangehpc\"], merged_table_glia_hpc_sex_0[\"log2FoldChangedlpfc\"]))\n",
    "print(spearmanr(merged_table_glia_hpc_sex_0[\"log2FoldChangehpc\"], merged_table_glia_hpc_sex_0[\"log2FoldChangedlpfc\"]))"
   ]
  },
  {
   "cell_type": "code",
   "execution_count": 24,
   "metadata": {},
   "outputs": [],
   "source": [
    "merged_table_hpc_sig = merged_table_glia_hpc_sex_0.loc[merged_table_glia_hpc_sex_0[\"padjhpc\"]<0.05]"
   ]
  },
  {
   "cell_type": "code",
   "execution_count": 25,
   "metadata": {},
   "outputs": [
    {
     "data": {
      "text/plain": [
       "Text(0.5, 1.0, 'log2fc comparison hpc oeg female analysis (1962 hypoacetylated + 8 hyperacetylated peaks)')"
      ]
     },
     "execution_count": 25,
     "metadata": {},
     "output_type": "execute_result"
    },
    {
     "data": {
      "image/png": "[encoded data removed]",
      "text/plain": [
       "<Figure size 432x288 with 1 Axes>"
      ]
     },
     "metadata": {
      "needs_background": "light"
     },
     "output_type": "display_data"
    }
   ],
   "source": [
    "plt.scatter(merged_table_hpc_sig[\"log2FoldChangehpc\"], merged_table_hpc_sig[\"log2FoldChangedlpfc\"])\n",
    "plt.axhline(y=0, c='k', linestyle='--')\n",
    "plt.axvline(x=0, c='k', linestyle='--')\n",
    "plt.xlabel(\"log2fc_hpc_oeg_female_samples\")\n",
    "plt.ylabel(\"log2fc_dlpfc_oeg_female_samples\")\n",
    "plt.title(\"log2fc comparison hpc oeg female analysis (1962 hypoacetylated + 8 hyperacetylated peaks)\")"
   ]
  },
  {
   "cell_type": "code",
   "execution_count": 26,
   "metadata": {},
   "outputs": [
    {
     "name": "stdout",
     "output_type": "stream",
     "text": [
      "(0.21714458758483704, 1.8755476936349678e-22)\n",
      "SpearmanrResult(correlation=-0.008845106631796783, pvalue=0.6948027690533944)\n"
     ]
    }
   ],
   "source": [
    "print(pearsonr(merged_table_hpc_sig[\"log2FoldChangehpc\"], merged_table_hpc_sig[\"log2FoldChangedlpfc\"]))\n",
    "print(spearmanr(merged_table_hpc_sig[\"log2FoldChangehpc\"], merged_table_hpc_sig[\"log2FoldChangedlpfc\"]))"
   ]
  },
  {
   "cell_type": "code",
   "execution_count": 27,
   "metadata": {},
   "outputs": [],
   "source": [
    "glia_dlpfc_binary_amyloid_results = pd.read_csv(glia_dlpfc_results_file_name, sep='\\t')\n",
    "glia_hpc_binary_amyloid_results = pd.read_csv(glia_hpc_results_file_name, sep='\\t')"
   ]
  },
  {
   "cell_type": "code",
   "execution_count": 28,
   "metadata": {},
   "outputs": [],
   "source": [
    "merged_table_dlpfc_all_samples = glia_hpc_binary_amyloid_results.join(glia_dlpfc_binary_amyloid_results,\n",
    "                                                      how='inner',\n",
    "                                                      lsuffix='hpc',\n",
    "                                                      rsuffix='dlpfc')"
   ]
  },
  {
   "cell_type": "code",
   "execution_count": 29,
   "metadata": {},
   "outputs": [
    {
     "data": {
      "text/plain": [
       "Text(0.5, 1.0, 'log2fc comparison dlpfc oeg analysis (all peaks passing ind. criteria DESeq2)')"
      ]
     },
     "execution_count": 29,
     "metadata": {},
     "output_type": "execute_result"
    },
    {
     "data": {
      "image/png": "[encoded data removed]",
      "text/plain": [
       "<Figure size 432x288 with 1 Axes>"
      ]
     },
     "metadata": {
      "needs_background": "light"
     },
     "output_type": "display_data"
    }
   ],
   "source": [
    "plt.scatter(merged_table_dlpfc_all_samples[\"log2FoldChangedlpfc\"], merged_table_dlpfc_all_samples[\"log2FoldChangehpc\"])\n",
    "plt.axhline(y=0, c='k', linestyle='--')\n",
    "plt.axvline(x=0, c='k', linestyle='--')\n",
    "plt.xlabel(\"log2fc_dlpfc_oeg_samples\")\n",
    "plt.ylabel(\"log2fc_hpc_oeg_samples\")\n",
    "plt.title(\"log2fc comparison dlpfc oeg analysis (all peaks passing ind. criteria DESeq2)\")"
   ]
  },
  {
   "cell_type": "code",
   "execution_count": 30,
   "metadata": {},
   "outputs": [
    {
     "name": "stdout",
     "output_type": "stream",
     "text": [
      "(0.05625749338686317, 8.080838113206806e-14)\n",
      "SpearmanrResult(correlation=0.04648684487852295, pvalue=6.818222437941313e-10)\n"
     ]
    }
   ],
   "source": [
    "print(pearsonr(merged_table_dlpfc_all_samples[\"log2FoldChangehpc\"], merged_table_dlpfc_all_samples[\"log2FoldChangedlpfc\"]))\n",
    "print(spearmanr(merged_table_dlpfc_all_samples[\"log2FoldChangehpc\"], merged_table_dlpfc_all_samples[\"log2FoldChangedlpfc\"]))"
   ]
  },
  {
   "cell_type": "code",
   "execution_count": 31,
   "metadata": {},
   "outputs": [],
   "source": [
    "merged_table_dlpfc_all_samples_dlpfc_sig = merged_table_dlpfc_all_samples.loc[merged_table_dlpfc_all_samples[\"padjdlpfc\"]<0.05]"
   ]
  },
  {
   "cell_type": "code",
   "execution_count": 32,
   "metadata": {},
   "outputs": [
    {
     "data": {
      "text/plain": [
       "Text(0.5, 1.0, 'log2fc comparison dlpfc oeg analysis (1029 hyperacetylated peaks)')"
      ]
     },
     "execution_count": 32,
     "metadata": {},
     "output_type": "execute_result"
    },
    {
     "data": {
      "image/png": "[encoded data removed]",
      "text/plain": [
       "<Figure size 432x288 with 1 Axes>"
      ]
     },
     "metadata": {
      "needs_background": "light"
     },
     "output_type": "display_data"
    }
   ],
   "source": [
    "plt.scatter(merged_table_dlpfc_all_samples_dlpfc_sig[\"log2FoldChangedlpfc\"], merged_table_dlpfc_all_samples_dlpfc_sig[\"log2FoldChangehpc\"])\n",
    "plt.axhline(y=0, c='k', linestyle='--')\n",
    "plt.axvline(x=0, c='k', linestyle='--')\n",
    "plt.xlabel(\"log2fc_dlpfc_oeg_samples\")\n",
    "plt.ylabel(\"log2fc_hpc_oeg_samples\")\n",
    "plt.title(\"log2fc comparison dlpfc oeg analysis (1029 hyperacetylated peaks)\")"
   ]
  },
  {
   "cell_type": "code",
   "execution_count": 33,
   "metadata": {},
   "outputs": [
    {
     "name": "stdout",
     "output_type": "stream",
     "text": [
      "(0.11432169476094842, 0.00023802514775202662)\n",
      "SpearmanrResult(correlation=0.12739520326606385, pvalue=4.161428817625757e-05)\n"
     ]
    }
   ],
   "source": [
    "print(pearsonr(merged_table_dlpfc_all_samples_dlpfc_sig[\"log2FoldChangehpc\"], merged_table_dlpfc_all_samples_dlpfc_sig[\"log2FoldChangedlpfc\"]))\n",
    "print(spearmanr(merged_table_dlpfc_all_samples_dlpfc_sig[\"log2FoldChangehpc\"], merged_table_dlpfc_all_samples_dlpfc_sig[\"log2FoldChangedlpfc\"]))"
   ]
  },
  {
   "cell_type": "code",
   "execution_count": 34,
   "metadata": {},
   "outputs": [],
   "source": [
    "glia_hpc_sex_0_specific_results_homer_annot = pd.read_csv(\"/deseq_analysis/sex_specific_amyloid_deseq/glia_hpc_sex_0_specific_binary_amyloid_down_homer_gene_annot.txt\", sep='\\t')"
   ]
  },
  {
   "cell_type": "code",
   "execution_count": 41,
   "metadata": {},
   "outputs": [],
   "source": [
    "ad_genes_list = [\"ADAM10\",\n",
    "                 \"BIN1\",\n",
    "                 \"ADAMTS4\",\n",
    "                 \"PICALM\",\n",
    "                 \"FERMT2\",\n",
    "                 \"SORL1\",\n",
    "                 \"BACE1\",\n",
    "                 \"CLU\",\n",
    "                 \"PTK2B\",\n",
    "                 \"MAPT\",\n",
    "                 \"APP\",\n",
    "                 \"PSEN1\",\n",
    "                 \"PSEN2\"]"
   ]
  },
  {
   "cell_type": "code",
   "execution_count": 43,
   "metadata": {},
   "outputs": [],
   "source": [
    "glia_hpc_sex_0_specific_results_homer_annot_ad_genes = glia_hpc_sex_0_specific_results_homer_annot.loc[glia_hpc_sex_0_specific_results_homer_annot[\"Gene Name\"].isin(ad_genes_list)]"
   ]
  },
  {
   "cell_type": "code",
   "execution_count": 64,
   "metadata": {},
   "outputs": [],
   "source": [
    "merged_glia_hpc_data = pd.merge(glia_hpc_sex_0_specific_results_homer_annot_ad_genes,\n",
    "         glia_hpc_sex_0_specific_results_pvaluestable,\n",
    "         left_on=\"PeakID (cmd=annotatePeaks.pl glia_hpc_sex_0_specific_binary_amyloid_down_homer_input.bed hg19)\",\n",
    "         right_on=\"peakID\",\n",
    "         )"
   ]
  },
  {
   "cell_type": "code",
   "execution_count": 66,
   "metadata": {},
   "outputs": [
    {
     "data": {
      "text/html": [
       "<div>\n",
       "<style scoped>\n",
       "    .dataframe tbody tr th:only-of-type {\n",
       "        vertical-align: middle;\n",
       "    }\n",
       "\n",
       "    .dataframe tbody tr th {\n",
       "        vertical-align: top;\n",
       "    }\n",
       "\n",
       "    .dataframe thead th {\n",
       "        text-align: right;\n",
       "    }\n",
       "</style>\n",
       "<table border=\"1\" class=\"dataframe\">\n",
       "  <thead>\n",
       "    <tr style=\"text-align: right;\">\n",
       "      <th></th>\n",
       "      <th>peakID</th>\n",
       "      <th>Gene Name</th>\n",
       "      <th>padj</th>\n",
       "    </tr>\n",
       "  </thead>\n",
       "  <tbody>\n",
       "    <tr>\n",
       "      <th>0</th>\n",
       "      <td>LHTPFCHPC000000000064073</td>\n",
       "      <td>BACE1</td>\n",
       "      <td>0.940886</td>\n",
       "    </tr>\n",
       "    <tr>\n",
       "      <th>1</th>\n",
       "      <td>LHTPFCHPC000000000180082</td>\n",
       "      <td>BIN1</td>\n",
       "      <td>0.502990</td>\n",
       "    </tr>\n",
       "    <tr>\n",
       "      <th>2</th>\n",
       "      <td>LHTPFCHPC000000000204603</td>\n",
       "      <td>APP</td>\n",
       "      <td>1.000000</td>\n",
       "    </tr>\n",
       "    <tr>\n",
       "      <th>3</th>\n",
       "      <td>LHTPFCHPC000000000028900</td>\n",
       "      <td>PSEN2</td>\n",
       "      <td>1.000000</td>\n",
       "    </tr>\n",
       "    <tr>\n",
       "      <th>4</th>\n",
       "      <td>LHTPFCHPC000000000060756</td>\n",
       "      <td>PICALM</td>\n",
       "      <td>1.000000</td>\n",
       "    </tr>\n",
       "    <tr>\n",
       "      <th>5</th>\n",
       "      <td>LHTPFCHPC000000000098597</td>\n",
       "      <td>FERMT2</td>\n",
       "      <td>1.000000</td>\n",
       "    </tr>\n",
       "    <tr>\n",
       "      <th>6</th>\n",
       "      <td>LHTPFCHPC000000000180095</td>\n",
       "      <td>BIN1</td>\n",
       "      <td>0.910840</td>\n",
       "    </tr>\n",
       "    <tr>\n",
       "      <th>7</th>\n",
       "      <td>LHTPFCHPC000000000111590</td>\n",
       "      <td>ADAM10</td>\n",
       "      <td>1.000000</td>\n",
       "    </tr>\n",
       "    <tr>\n",
       "      <th>8</th>\n",
       "      <td>LHTPFCHPC000000000101505</td>\n",
       "      <td>PSEN1</td>\n",
       "      <td>1.000000</td>\n",
       "    </tr>\n",
       "    <tr>\n",
       "      <th>9</th>\n",
       "      <td>LHTPFCHPC000000000065128</td>\n",
       "      <td>SORL1</td>\n",
       "      <td>1.000000</td>\n",
       "    </tr>\n",
       "    <tr>\n",
       "      <th>10</th>\n",
       "      <td>LHTPFCHPC000000000064064</td>\n",
       "      <td>BACE1</td>\n",
       "      <td>1.000000</td>\n",
       "    </tr>\n",
       "    <tr>\n",
       "      <th>11</th>\n",
       "      <td>LHTPFCHPC000000000020638</td>\n",
       "      <td>ADAMTS4</td>\n",
       "      <td>1.000000</td>\n",
       "    </tr>\n",
       "    <tr>\n",
       "      <th>12</th>\n",
       "      <td>LHTPFCHPC000000000204679</td>\n",
       "      <td>APP</td>\n",
       "      <td>1.000000</td>\n",
       "    </tr>\n",
       "    <tr>\n",
       "      <th>13</th>\n",
       "      <td>LHTPFCHPC000000000180090</td>\n",
       "      <td>BIN1</td>\n",
       "      <td>0.619708</td>\n",
       "    </tr>\n",
       "  </tbody>\n",
       "</table>\n",
       "</div>"
      ],
      "text/plain": [
       "                      peakID Gene Name      padj\n",
       "0   LHTPFCHPC000000000064073     BACE1  0.940886\n",
       "1   LHTPFCHPC000000000180082      BIN1  0.502990\n",
       "2   LHTPFCHPC000000000204603       APP  1.000000\n",
       "3   LHTPFCHPC000000000028900     PSEN2  1.000000\n",
       "4   LHTPFCHPC000000000060756    PICALM  1.000000\n",
       "5   LHTPFCHPC000000000098597    FERMT2  1.000000\n",
       "6   LHTPFCHPC000000000180095      BIN1  0.910840\n",
       "7   LHTPFCHPC000000000111590    ADAM10  1.000000\n",
       "8   LHTPFCHPC000000000101505     PSEN1  1.000000\n",
       "9   LHTPFCHPC000000000065128     SORL1  1.000000\n",
       "10  LHTPFCHPC000000000064064     BACE1  1.000000\n",
       "11  LHTPFCHPC000000000020638   ADAMTS4  1.000000\n",
       "12  LHTPFCHPC000000000204679       APP  1.000000\n",
       "13  LHTPFCHPC000000000180090      BIN1  0.619708"
      ]
     },
     "execution_count": 66,
     "metadata": {},
     "output_type": "execute_result"
    }
   ],
   "source": [
    "merged_glia_hpc_data[[\"peakID\", \"Gene Name\", \"padj\"]]"
   ]
  },
  {
   "cell_type": "code",
   "execution_count": 55,
   "metadata": {},
   "outputs": [],
   "source": [
    "glia_dlpfc_specific_results_homer_annot = pd.read_csv(\"/deseq_analysis/binary_amyloid_deseq/glia_dlpfc_binary_amyloid_up_homer_gene_annot.txt\", sep='\\t', header=None)"
   ]
  },
  {
   "cell_type": "code",
   "execution_count": 57,
   "metadata": {},
   "outputs": [],
   "source": [
    "glia_dlpfc_specific_results_homer_annot_ad_genes = glia_dlpfc_specific_results_homer_annot.loc[glia_dlpfc_specific_results_homer_annot[15].isin(ad_genes_list)]"
   ]
  },
  {
   "cell_type": "code",
   "execution_count": 71,
   "metadata": {},
   "outputs": [],
   "source": [
    "merged_glia_dlpfc_data = pd.merge(glia_dlpfc_specific_results_homer_annot_ad_genes,\n",
    "         glia_dlpfc_results_pvaluestable,\n",
    "         left_on=0,\n",
    "         right_on=\"peakID\",\n",
    "         )"
   ]
  },
  {
   "cell_type": "code",
   "execution_count": 76,
   "metadata": {},
   "outputs": [
    {
     "data": {
      "text/html": [
       "<div>\n",
       "<style scoped>\n",
       "    .dataframe tbody tr th:only-of-type {\n",
       "        vertical-align: middle;\n",
       "    }\n",
       "\n",
       "    .dataframe tbody tr th {\n",
       "        vertical-align: top;\n",
       "    }\n",
       "\n",
       "    .dataframe thead th {\n",
       "        text-align: right;\n",
       "    }\n",
       "</style>\n",
       "<table border=\"1\" class=\"dataframe\">\n",
       "  <thead>\n",
       "    <tr style=\"text-align: right;\">\n",
       "      <th></th>\n",
       "      <th>peakID</th>\n",
       "      <th>15</th>\n",
       "      <th>padj</th>\n",
       "    </tr>\n",
       "  </thead>\n",
       "  <tbody>\n",
       "    <tr>\n",
       "      <th>0</th>\n",
       "      <td>LHTPFCHPC000000000028896</td>\n",
       "      <td>PSEN2</td>\n",
       "      <td>1.0</td>\n",
       "    </tr>\n",
       "    <tr>\n",
       "      <th>1</th>\n",
       "      <td>LHTPFCHPC000000000020638</td>\n",
       "      <td>ADAMTS4</td>\n",
       "      <td>1.0</td>\n",
       "    </tr>\n",
       "    <tr>\n",
       "      <th>2</th>\n",
       "      <td>LHTPFCHPC000000000065055</td>\n",
       "      <td>SORL1</td>\n",
       "      <td>1.0</td>\n",
       "    </tr>\n",
       "    <tr>\n",
       "      <th>3</th>\n",
       "      <td>LHTPFCHPC000000000180101</td>\n",
       "      <td>BIN1</td>\n",
       "      <td>1.0</td>\n",
       "    </tr>\n",
       "    <tr>\n",
       "      <th>4</th>\n",
       "      <td>LHTPFCHPC000000000317699</td>\n",
       "      <td>CLU</td>\n",
       "      <td>1.0</td>\n",
       "    </tr>\n",
       "    <tr>\n",
       "      <th>5</th>\n",
       "      <td>LHTPFCHPC000000000028895</td>\n",
       "      <td>PSEN2</td>\n",
       "      <td>1.0</td>\n",
       "    </tr>\n",
       "  </tbody>\n",
       "</table>\n",
       "</div>"
      ],
      "text/plain": [
       "                     peakID       15  padj\n",
       "0  LHTPFCHPC000000000028896    PSEN2   1.0\n",
       "1  LHTPFCHPC000000000020638  ADAMTS4   1.0\n",
       "2  LHTPFCHPC000000000065055    SORL1   1.0\n",
       "3  LHTPFCHPC000000000180101     BIN1   1.0\n",
       "4  LHTPFCHPC000000000317699      CLU   1.0\n",
       "5  LHTPFCHPC000000000028895    PSEN2   1.0"
      ]
     },
     "execution_count": 76,
     "metadata": {},
     "output_type": "execute_result"
    }
   ],
   "source": [
    "merged_glia_dlpfc_data[[\"peakID\", 15, \"padj\"]]"
   ]
  },
  {
   "cell_type": "code",
   "execution_count": null,
   "metadata": {},
   "outputs": [],
   "source": []
  }
 ],
 "metadata": {
  "kernelspec": {
   "display_name": "Python [conda env:data_analysis]",
   "language": "python",
   "name": "conda-env-data_analysis-py"
  },
  "language_info": {
   "codemirror_mode": {
    "name": "ipython",
    "version": 3
   },
   "file_extension": ".py",
   "mimetype": "text/x-python",
   "name": "python",
   "nbconvert_exporter": "python",
   "pygments_lexer": "ipython3",
   "version": "3.7.3"
  }
 },
 "nbformat": 4,
 "nbformat_minor": 2
}
